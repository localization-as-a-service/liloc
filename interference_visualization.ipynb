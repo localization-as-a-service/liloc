{
 "cells": [
  {
   "cell_type": "code",
   "execution_count": 20,
   "metadata": {},
   "outputs": [],
   "source": [
    "import open3d\n",
    "import numpy as np\n",
    "import pandas as pd\n",
    "import os\n",
    "import glob\n",
    "import tqdm\n",
    "import copy\n",
    "\n",
    "import utils.registration as registration\n",
    "import utils.fread as fread\n",
    "import utils.pointcloud as pointcloud\n",
    "import utils.grid_search as grid_search\n",
    "import utils.functions as functions\n",
    "\n",
    "from time import sleep\n",
    "from PIL import Image\n",
    "from utils.config import Config\n",
    "from utils.depth_camera import DepthCamera"
   ]
  },
  {
   "cell_type": "code",
   "execution_count": 6,
   "metadata": {},
   "outputs": [],
   "source": [
    "config = Config(\n",
    "        sequence_dir=\"data/raw_data\",\n",
    "        feature_dir=\"data/features\",\n",
    "        output_dir=\"data/trajectories/trajectory/IMU_PCD\",\n",
    "        experiment=\"exp_12\",\n",
    "        trial=\"trial_1\",\n",
    "        subject=\"subject-1\",\n",
    "        sequence=\"01\",\n",
    "        groundtruth_dir=\"data/trajectories/groundtruth\",\n",
    "    )\n",
    "    \n",
    "config.voxel_size=0.03\n",
    "config.target_fps=20\n",
    "config.min_std=0.5"
   ]
  },
  {
   "cell_type": "code",
   "execution_count": 7,
   "metadata": {},
   "outputs": [],
   "source": [
    "sequence_dir = config.get_sequence_dir()\n",
    "feature_dir = config.get_feature_dir()"
   ]
  },
  {
   "cell_type": "code",
   "execution_count": 8,
   "metadata": {},
   "outputs": [],
   "source": [
    "sequence_ts = fread.get_timstamps_from_images(sequence_dir, ext=\".depth.png\")\n",
    "\n",
    "groundtruth_data = np.load(os.path.join(config.get_groundtruth_dir(), f\"{config.get_file_name()}.gtpose.npz\"))\n",
    "groundtruth_t = groundtruth_data[\"local_t\"]"
   ]
  },
  {
   "cell_type": "code",
   "execution_count": 11,
   "metadata": {},
   "outputs": [],
   "source": [
    "depth_camera = DepthCamera(\"secondary\", \"data/raw_data/exp_12/metadata/device-3-aligned.json\")"
   ]
  },
  {
   "cell_type": "code",
   "execution_count": 19,
   "metadata": {},
   "outputs": [
    {
     "name": "stderr",
     "output_type": "stream",
     "text": [
      "100%|██████████| 651/651 [00:20<00:00, 31.20it/s]\n"
     ]
    }
   ],
   "source": [
    "local_pcds = []\n",
    "\n",
    "for i in tqdm.trange(len(sequence_ts)):\n",
    "    if np.sum(groundtruth_t[i]) == 0:\n",
    "        continue\n",
    "    \n",
    "    depth_image_file = os.path.join(sequence_dir, f\"frame-{sequence_ts[i]}.depth.png\")\n",
    "    pcd = depth_camera.depth_to_point_cloud(depth_image_file)\n",
    "    pcd.transform(groundtruth_t[i])\n",
    "    \n",
    "    local_pcds.append(pcd)"
   ]
  },
  {
   "cell_type": "code",
   "execution_count": 21,
   "metadata": {},
   "outputs": [],
   "source": [
    "x = pointcloud.merge_pcds(local_pcds, 0.03)"
   ]
  },
  {
   "cell_type": "code",
   "execution_count": null,
   "metadata": {},
   "outputs": [],
   "source": [
    "pointcloud.view(x)"
   ]
  },
  {
   "cell_type": "code",
   "execution_count": null,
   "metadata": {},
   "outputs": [],
   "source": []
  }
 ],
 "metadata": {
  "kernelspec": {
   "display_name": "lidar",
   "language": "python",
   "name": "python3"
  },
  "language_info": {
   "codemirror_mode": {
    "name": "ipython",
    "version": 3
   },
   "file_extension": ".py",
   "mimetype": "text/x-python",
   "name": "python",
   "nbconvert_exporter": "python",
   "pygments_lexer": "ipython3",
   "version": "3.7.9"
  },
  "orig_nbformat": 4
 },
 "nbformat": 4,
 "nbformat_minor": 2
}
