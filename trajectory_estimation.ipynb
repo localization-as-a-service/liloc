{
 "cells": [
  {
   "cell_type": "code",
   "execution_count": 1,
   "metadata": {},
   "outputs": [],
   "source": [
    "import open3d\n",
    "import numpy as np\n",
    "import pandas as pd\n",
    "import os\n",
    "import glob\n",
    "import tqdm\n",
    "import copy\n",
    "\n",
    "import utils.registration as registration\n",
    "import utils.fread as fread\n",
    "import utils.transform as transform\n",
    "import utils.grid_search as grid_search\n",
    "import utils.functions as functions\n",
    "\n",
    "from time import sleep\n",
    "from PIL import Image\n",
    "from utils.config import Config"
   ]
  },
  {
   "cell_type": "code",
   "execution_count": 2,
   "metadata": {},
   "outputs": [],
   "source": [
    "config = Config(\n",
    "        sequence_dir=\"../local-registration/data/raw_data\",\n",
    "        feature_dir=\"../local-registration/data/features\",\n",
    "        output_dir=\"../local-registration/data/trajectories/trajectory/IMU_PCD\",\n",
    "        experiment=\"exp_11\",\n",
    "        trial=\"trial_1\",\n",
    "        subject=\"subject-1\",\n",
    "        sequence=\"01\",\n",
    "        groundtruth_dir=\"data/trajectories/groundtruth\",\n",
    "    )\n",
    "    \n",
    "config.voxel_size=0.03\n",
    "config.target_fps=20\n",
    "config.min_std=0.5\n",
    "\n",
    "local_registration_dir = \"../local-registration/data/trajectories/local/IMU_PCD\""
   ]
  },
  {
   "cell_type": "code",
   "execution_count": 3,
   "metadata": {},
   "outputs": [],
   "source": [
    "sequence_dir = config.get_sequence_dir()\n",
    "feature_dir = config.get_feature_dir()\n",
    "\n",
    "# sequence_ts = fread.get_timstamps(feature_dir, ext=\".secondary.npz\")\n",
    "# sequence_ts = fread.sample_timestamps(sequence_ts, config.target_fps)\n"
   ]
  },
  {
   "cell_type": "code",
   "execution_count": 6,
   "metadata": {},
   "outputs": [],
   "source": [
    "local_reg_file = glob.glob(os.path.join(local_registration_dir, config.experiment, f\"{config.get_file_name()}.*.npz\"))\n",
    "\n",
    "if len(local_reg_file) == 0:\n",
    "    print(\"Unable to find local registration data. Skipping.\")\n",
    "\n",
    "local_data = np.load(local_reg_file[0])\n",
    "local_t = local_data[\"local_t\"]\n",
    "sequence_ts = local_data[\"sequence_ts\"] "
   ]
  },
  {
   "cell_type": "code",
   "execution_count": 9,
   "metadata": {},
   "outputs": [],
   "source": [
    "num_frames = len(sequence_ts)"
   ]
  },
  {
   "cell_type": "code",
   "execution_count": 10,
   "metadata": {},
   "outputs": [
    {
     "name": "stdout",
     "output_type": "stream",
     "text": [
      "-- Calculating std values.\n"
     ]
    },
    {
     "name": "stderr",
     "output_type": "stream",
     "text": [
      "100%|██████████| 369/369 [00:04<00:00, 90.88it/s]\n"
     ]
    }
   ],
   "source": [
    "print(\"-- Calculating std values.\")\n",
    "    \n",
    "std_values = []\n",
    "\n",
    "for t in tqdm.trange(len(sequence_ts)):\n",
    "    depth_img_file = os.path.join(sequence_dir, f\"frame-{sequence_ts[t]}.depth.png\")\n",
    "    std_values.append(registration.calc_std(depth_img_file, 4000))\n",
    "    \n",
    "std_values = np.array(std_values)"
   ]
  },
  {
   "cell_type": "code",
   "execution_count": 11,
   "metadata": {},
   "outputs": [
    {
     "name": "stdout",
     "output_type": "stream",
     "text": [
      "-- Finding optimal global positions for registration\n"
     ]
    },
    {
     "name": "stderr",
     "output_type": "stream",
     "text": [
      "100%|██████████| 369/369 [00:00<?, ?it/s]\n"
     ]
    }
   ],
   "source": [
    "device_0_ts = fread.get_timstamps_from_images(os.path.join(config.get_global_dir(), \"device-0\"), ext=\".depth.png\")\n",
    "device_1_ts = fread.get_timstamps_from_images(os.path.join(config.get_global_dir(), \"device-1\"), ext=\".depth.png\")\n",
    "device_2_ts = fread.get_timstamps_from_images(os.path.join(config.get_global_dir(), \"device-2\"), ext=\".depth.png\")\n",
    "\n",
    "y = [[], [], []]\n",
    "\n",
    "for i in range(num_frames):\n",
    "    y[0].append(functions.nearest(device_0_ts, sequence_ts[i]))\n",
    "    y[1].append(functions.nearest(device_1_ts, sequence_ts[i]))\n",
    "    y[2].append(functions.nearest(device_2_ts, sequence_ts[i]))\n",
    "    \n",
    "    y[0][i] = np.abs(y[0][i] - sequence_ts[i]) * 1e-6\n",
    "    y[1][i] = np.abs(y[1][i] - sequence_ts[i]) * 1e-6\n",
    "    y[2][i] = np.abs(y[2][i] - sequence_ts[i]) * 1e-6\n",
    "    \n",
    "print(\"-- Finding optimal global positions for registration\")\n",
    "\n",
    "global_frame_delays = np.array(y)\n",
    "global_frame_delays_inds = np.ones(global_frame_delays.shape, dtype=np.int8)\n",
    "\n",
    "for r, c in np.argwhere(global_frame_delays > 100):\n",
    "    global_frame_delays_inds[r, c] = 0\n",
    "    \n",
    "global_frame_delays_inds = np.sum(global_frame_delays_inds, axis=0)\n",
    "global_frame_delays_inds = np.where(global_frame_delays_inds == 3, 1, 0)\n",
    "    \n",
    "global_pos = [0]\n",
    "for t in tqdm.trange(num_frames):\n",
    "    # if global_frame_delays_inds[t] == 0: continue\n",
    "    \n",
    "    if t - global_pos[-1] >= config.target_fps * 0.8: \n",
    "        global_pos.append(t)\n",
    "        continue\n",
    "    \n",
    "    if (np.abs(std_values[t] - std_values[global_pos[-1]]) > config.delta) and (t - global_pos[-1] > config.target_fps * 0.5):\n",
    "        global_pos.append(t)\n",
    "\n",
    "global_pos = np.array(global_pos)"
   ]
  },
  {
   "cell_type": "code",
   "execution_count": 12,
   "metadata": {},
   "outputs": [],
   "source": [
    "cutoffs = registration.get_cutoff_sequence(std_values, config.target_fps, config.min_std, config.cutoff_margin)"
   ]
  },
  {
   "cell_type": "code",
   "execution_count": 13,
   "metadata": {},
   "outputs": [
    {
     "name": "stdout",
     "output_type": "stream",
     "text": [
      "Global registration: 0/29\n",
      "Keypts: [21908, 83973]\tNo of matches: 20737\tFitness: 0.9465\tInlier RMSE: 0.0201\n",
      "Global registration: 1/29\n",
      "Keypts: [21738, 84203]\tNo of matches: 13540\tFitness: 0.6229\tInlier RMSE: 0.0206\n",
      "Global registration: 2/29\n",
      "Keypts: [18993, 83660]\tNo of matches: 18094\tFitness: 0.9527\tInlier RMSE: 0.0206\n",
      "Global registration verification: 2/29\n",
      "Total invalid global registrations: 0\n",
      "Validating and correcting global registrations.\n",
      "Check 1: False, Check 2: True, Check 3: False\n",
      "Global registration: 3/29\n"
     ]
    }
   ],
   "source": [
    "global_t = [np.identity(4) for _ in range(num_frames)]\n",
    "\n",
    "for start_t, end_t in cutoffs:\n",
    "    global_inds = global_pos[np.logical_and(global_pos >= start_t, global_pos <= end_t)]\n",
    "    \n",
    "    global_target_t = []\n",
    "    found_correct_global = False\n",
    "    found_correct_global_at = -1\n",
    "\n",
    "    for t in range(len(global_inds)):\n",
    "        print(f\"Global registration: {t}/{len(global_inds)}\")\n",
    "        if found_correct_global:\n",
    "            break\n",
    "        else:\n",
    "            source_feature_file = os.path.join(feature_dir, f\"{sequence_ts[global_inds[t]]}.secondary.npz\")\n",
    "            target_feature_file = os.path.join(feature_dir, f\"{sequence_ts[global_inds[t]]}.global.npz\")\n",
    "            # target_feature_file = os.path.join(\"data/reference/larc_kitchen_3cams.npz\")\n",
    "            source, target, reg_result = grid_search.global_registration(source_feature_file, target_feature_file, config.voxel_size, cell_size=2, refine_enabled=True)\n",
    "            global_target_t.append(reg_result.transformation if reg_result else np.identity(4))\n",
    "            if reg_result:\n",
    "                registration.describe(source, target, reg_result)\n",
    "            else:\n",
    "                print(\"Registration failed.\")\n",
    "            \n",
    "            # registration.view(source, target, reg_result.transformation if reg_result else np.identity(4))\n",
    "            \n",
    "        if t > 1 and not found_correct_global:\n",
    "            print(f\"Global registration verification: {t}/{len(global_inds)}\")\n",
    "            total = 0\n",
    "            for i in range(t, t - 3, -1):\n",
    "                if np.sum(global_target_t[i]) == 4:\n",
    "                    total += 1\n",
    "                    \n",
    "            print(f\"Total invalid global registrations: {total}\")        \n",
    "            if total > 1: continue\n",
    "            \n",
    "            print(f\"Validating and correcting global registrations.\")\n",
    "            try:\n",
    "                global_target_t[t - 2], global_target_t[t - 1], global_target_t[t] = grid_search.validate(\n",
    "                    global_target_t[t - 2], global_target_t[t - 1], global_target_t[t], \n",
    "                    grid_search.merge_transformation_matrices(global_inds[t - 2], global_inds[t - 1], local_t),\n",
    "                    grid_search.merge_transformation_matrices(global_inds[t - 1], global_inds[t], local_t),\n",
    "                    max_rot=2, max_dist=0.1\n",
    "                )\n",
    "                found_correct_global = True\n",
    "                found_correct_global_at = t\n",
    "            except Exception as e:\n",
    "                print(e)\n",
    "                continue\n",
    "            \n",
    "    if found_correct_global:\n",
    "        global_t[global_inds[found_correct_global_at]] = global_target_t[found_correct_global_at]\n",
    "\n",
    "        for t in range(global_inds[found_correct_global_at] + 1, end_t):\n",
    "            global_t[t] = np.dot(global_t[t - 1], local_t[t])\n",
    "            \n",
    "        for t in range(global_inds[found_correct_global_at] - 1, start_t - 1, -1):\n",
    "            global_t[t] = np.dot(global_t[t + 1], transform.inv_transform(local_t[t + 1]))\n",
    "            \n",
    "    else:\n",
    "        print(\"-- Finding correct point failed. Registering every frame globally.\")\n",
    "        for t in tqdm.tqdm(range(start_t, end_t, 5)):\n",
    "            source_feature_file = os.path.join(feature_dir, f\"{sequence_ts[t]}.secondary.npz\")\n",
    "            target_feature_file = os.path.join(feature_dir, f\"{sequence_ts[t]}.global.npz\")\n",
    "            _, _, reg_result = grid_search.global_registration(source_feature_file, target_feature_file, config.voxel_size, cell_size=2, refine_enabled=True)\n",
    "            global_t[t] = reg_result.transformation if reg_result else np.identity(4)"
   ]
  },
  {
   "cell_type": "code",
   "execution_count": 15,
   "metadata": {},
   "outputs": [],
   "source": [
    "registration.view(source, target, reg_result.transformation if reg_result else np.identity(4))"
   ]
  }
 ],
 "metadata": {
  "kernelspec": {
   "display_name": "lidar",
   "language": "python",
   "name": "python3"
  },
  "language_info": {
   "codemirror_mode": {
    "name": "ipython",
    "version": 3
   },
   "file_extension": ".py",
   "mimetype": "text/x-python",
   "name": "python",
   "nbconvert_exporter": "python",
   "pygments_lexer": "ipython3",
   "version": "3.7.9"
  },
  "orig_nbformat": 4
 },
 "nbformat": 4,
 "nbformat_minor": 2
}
