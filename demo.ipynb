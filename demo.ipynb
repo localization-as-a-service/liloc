{
 "cells": [
  {
   "cell_type": "code",
   "execution_count": 6,
   "metadata": {},
   "outputs": [],
   "source": [
    "import open3d\n",
    "import numpy as np\n",
    "import pandas as pd\n",
    "import os\n",
    "import glob\n",
    "import tqdm\n",
    "import copy\n",
    "\n",
    "import utils.registration as registration\n",
    "import utils.fread as fread\n",
    "import utils.transform as transform\n",
    "import utils.grid_search as grid_search\n",
    "import utils.functions as functions\n",
    "from utils.depth_camera import DepthCamera\n",
    "\n",
    "from time import sleep\n",
    "from PIL import Image\n",
    "from utils.config import Config"
   ]
  },
  {
   "cell_type": "code",
   "execution_count": 7,
   "metadata": {},
   "outputs": [],
   "source": [
    "depth_camera = DepthCamera(\"secondary-camera\", \"data/raw_data/exp_12/metadata/device-3-aligned.json\")"
   ]
  },
  {
   "cell_type": "code",
   "execution_count": 3,
   "metadata": {},
   "outputs": [],
   "source": [
    "config = Config(\n",
    "    sequence_dir=\"data/raw_data\",\n",
    "    feature_dir=\"data/features\",\n",
    "    output_dir=\"data/trajectories/temp\",\n",
    "    experiment=\"exp_12\",\n",
    "    trial=\"trial_1\",\n",
    "    subject=\"subject-1\",\n",
    "    sequence=\"01\",\n",
    "    groundtruth_dir=\"data/trajectories/groundtruth\",\n",
    ")\n",
    "    \n",
    "config.voxel_size=0.05\n",
    "config.target_fps=20\n",
    "config.min_std=0.5"
   ]
  },
  {
   "cell_type": "code",
   "execution_count": 5,
   "metadata": {},
   "outputs": [
    {
     "name": "stdout",
     "output_type": "stream",
     "text": [
      "Number of frames: 450\n"
     ]
    }
   ],
   "source": [
    "feature_dir = config.get_feature_dir()\n",
    "sequence_dir = config.get_sequence_dir()\n",
    "\n",
    "sequence_ts = fread.get_timstamps(feature_dir, ext=\".secondary.npz\")\n",
    "sequence_ts = fread.sample_timestamps(sequence_ts, config.target_fps)\n",
    "\n",
    "num_frames = len(sequence_ts)\n",
    "print(f\"Number of frames: {num_frames}\")"
   ]
  },
  {
   "cell_type": "code",
   "execution_count": 11,
   "metadata": {},
   "outputs": [
    {
     "name": "stderr",
     "output_type": "stream",
     "text": [
      "100%|██████████| 450/450 [00:18<00:00, 24.62it/s]\n"
     ]
    }
   ],
   "source": [
    "local_pcds = []\n",
    "fpfh_feats = []\n",
    "\n",
    "for t in tqdm.trange(num_frames):\n",
    "    depth_img_file = os.path.join(sequence_dir, f\"frame-{sequence_ts[t]}.depth.png\")\n",
    "    pcd = depth_camera.depth_to_point_cloud(depth_img_file)\n",
    "    pcd = open3d.voxel_down_sample(pcd, voxel_size=config.voxel_size)\n",
    "    pcd, fpfh = registration.compute_fpfh(pcd, config.voxel_size, down_sample=False)\n",
    "    local_pcds.append(pcd)\n",
    "    fpfh_feats.append(fpfh)"
   ]
  },
  {
   "cell_type": "code",
   "execution_count": null,
   "metadata": {},
   "outputs": [],
   "source": [
    "local_pcds = []\n",
    "fpfh_feats = []\n",
    "\n",
    "start_time = time.time()\n",
    "\n",
    "for t in tqdm.trange(num_frames):\n",
    "    feature_file = os.path.join(feature_dir, f\"{sequence_ts[t]}.secondary.npz\")\n",
    "    pcd = FCGF.get_features(feature_file, config.voxel_size, pcd_only=True)\n",
    "    pcd, fpfh = registration.compute_fpfh(pcd, config.voxel_size, down_sample=False)\n",
    "    local_pcds.append(pcd)\n",
    "    fpfh_feats.append(fpfh) "
   ]
  }
 ],
 "metadata": {
  "kernelspec": {
   "display_name": "lidar",
   "language": "python",
   "name": "python3"
  },
  "language_info": {
   "codemirror_mode": {
    "name": "ipython",
    "version": 3
   },
   "file_extension": ".py",
   "mimetype": "text/x-python",
   "name": "python",
   "nbconvert_exporter": "python",
   "pygments_lexer": "ipython3",
   "version": "3.7.9"
  },
  "orig_nbformat": 4
 },
 "nbformat": 4,
 "nbformat_minor": 2
}
