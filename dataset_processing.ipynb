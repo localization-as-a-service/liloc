{
 "cells": [
  {
   "cell_type": "code",
   "execution_count": 1,
   "metadata": {},
   "outputs": [],
   "source": [
    "import open3d\n",
    "import numpy as np\n",
    "import pandas as pd\n",
    "import os\n",
    "import tqdm\n",
    "import copy\n",
    "\n",
    "import matplotlib.pyplot as plt\n",
    "import utils.registration as registration\n",
    "import utils.functions as functions\n",
    "import utils.transform as transform\n",
    "import utils.pointcloud as pointcloud\n",
    "import utils.fread as fread\n",
    "import utils.FCGF as FCGF\n",
    "\n",
    "from utils.config import Config\n",
    "from scipy.ndimage import gaussian_filter1d"
   ]
  },
  {
   "cell_type": "code",
   "execution_count": 26,
   "metadata": {},
   "outputs": [],
   "source": [
    "dataset_dir = \"data/raw_data\"\n",
    "features_dir = \"data/features\"\n",
    "experiment = \"exp_12\"\n",
    "calib_period = 4"
   ]
  },
  {
   "cell_type": "code",
   "execution_count": 22,
   "metadata": {},
   "outputs": [
    {
     "name": "stdout",
     "output_type": "stream",
     "text": [
      "01\n"
     ]
    }
   ],
   "source": [
    "for trial in os.listdir(os.path.join(dataset_dir, experiment)):\n",
    "    \n",
    "    if not trial.startswith(\"trial\"):\n",
    "        continue\n",
    "    \n",
    "    for subject in os.listdir(os.path.join(dataset_dir, experiment, trial, \"secondary\")):\n",
    "        for sequence in os.listdir(os.path.join(dataset_dir, experiment, trial, \"secondary\", subject)):\n",
    "            print(f\"Processing > {trial} {sequence}\")\n",
    "            motion_dir = os.path.join(dataset_dir, experiment, trial, \"secondary\", subject, sequence, \"motion\")\n",
    "            sequence_dir = os.path.join(dataset_dir, experiment, trial, \"secondary\", subject, sequence, \"frames\")\n",
    "            feature_dir = os.path.join(features_dir, experiment, trial, \"0.03\", subject, sequence)\n",
    "\n",
    "            sequence_ts = fread.get_timstamps_from_images(sequence_dir, ext=\".depth.png\")\n",
    "\n",
    "            accel_df = pd.read_csv(os.path.join(motion_dir, \"accel.csv\"))\n",
    "            gyro_df = pd.read_csv(os.path.join(motion_dir, \"gyro.csv\"))\n",
    "\n",
    "            accel_df.drop_duplicates(\"timestamp\", inplace=True)\n",
    "            gyro_df.drop_duplicates(\"timestamp\", inplace=True)\n",
    "            imu_df = pd.merge(accel_df, gyro_df, on=\"timestamp\", suffixes=(\"a\", \"g\"))\n",
    "\n",
    "            frame_rate = accel_df.shape[0] / (accel_df.timestamp.values[-1] - accel_df.timestamp.values[0]) * 1000\n",
    "            win_len = int(frame_rate * calib_period)\n",
    "\n",
    "            # remove first row as the dt is 0\n",
    "            imu_df = imu_df.iloc[1:]\n",
    "            # reset index in pandas data frame\n",
    "            imu_df.reset_index(drop=True, inplace=True)\n",
    "\n",
    "            imu_df = imu_df.iloc[win_len:].copy()\n",
    "\n",
    "            # load ground truth trajectory\n",
    "            start_t = np.where(sequence_ts == functions.nearest(sequence_ts, imu_df.timestamp.values[0]))[0][0]\n",
    "\n",
    "            sequence_ts = sequence_ts[start_t:]\n",
    "            for t in sequence_ts[:start_t]:\n",
    "                if os.path.exists(os.path.join(sequence_dir, f\"frame-{t}.depth.png\")):\n",
    "                    os.remove(os.path.join(sequence_dir, f\"frame-{t}.depth.png\"))\n",
    "                if os.path.exists(os.path.join(sequence_dir, f\"frame-{t}.color.png\")):\n",
    "                    os.remove(os.path.join(sequence_dir, f\"frame-{t}.color.png\"))\n",
    "                if os.path.exists(os.path.join(feature_dir, f\"{t}.global.npz\")):\n",
    "                    os.remove(os.path.join(feature_dir, f\"{t}.global.npz\"))\n",
    "                if os.path.exists(os.path.join(feature_dir, f\"{t}.secondary.npz\")):\n",
    "                    os.remove(os.path.join(feature_dir, f\"{t}.secondary.npz\"))    "
   ]
  }
 ],
 "metadata": {
  "kernelspec": {
   "display_name": "lidar",
   "language": "python",
   "name": "python3"
  },
  "language_info": {
   "codemirror_mode": {
    "name": "ipython",
    "version": 3
   },
   "file_extension": ".py",
   "mimetype": "text/x-python",
   "name": "python",
   "nbconvert_exporter": "python",
   "pygments_lexer": "ipython3",
   "version": "3.7.9"
  },
  "orig_nbformat": 4
 },
 "nbformat": 4,
 "nbformat_minor": 2
}
