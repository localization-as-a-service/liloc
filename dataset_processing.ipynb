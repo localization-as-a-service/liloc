{
 "cells": [
  {
   "cell_type": "code",
   "execution_count": 1,
   "metadata": {},
   "outputs": [],
   "source": [
    "import open3d\n",
    "import numpy as np\n",
    "import pandas as pd\n",
    "import os\n",
    "import tqdm\n",
    "import copy\n",
    "import glob\n",
    "\n",
    "import matplotlib.pyplot as plt\n",
    "import utils.registration as registration\n",
    "import utils.functions as functions\n",
    "import utils.transform as transform\n",
    "import utils.pointcloud as pointcloud\n",
    "import utils.fread as fread\n",
    "import utils.FCGF as FCGF\n",
    "\n",
    "from utils.config import Config\n",
    "from scipy.ndimage import gaussian_filter1d"
   ]
  },
  {
   "cell_type": "code",
   "execution_count": 2,
   "metadata": {},
   "outputs": [],
   "source": [
    "dataset_dir = \"data/raw_data\"\n",
    "features_dir = \"data/features\"\n",
    "experiment = \"exp_13\"\n",
    "calib_period = 4"
   ]
  },
  {
   "cell_type": "code",
   "execution_count": 5,
   "metadata": {},
   "outputs": [
    {
     "name": "stdout",
     "output_type": "stream",
     "text": [
      "Processing > trial_1 01\n",
      "Processing > trial_1 02\n",
      "Processing > trial_1 03\n",
      "Processing > trial_1 04\n",
      "Processing > trial_1 05\n",
      "Processing > trial_1 06\n",
      "Processing > trial_2 01\n",
      "Processing > trial_2 02\n",
      "Processing > trial_2 03\n",
      "Processing > trial_2 04\n",
      "Processing > trial_2 05\n",
      "Processing > trial_2 06\n",
      "Processing > trial_3 01\n",
      "Processing > trial_3 02\n",
      "Processing > trial_3 03\n",
      "Processing > trial_3 04\n",
      "Processing > trial_3 05\n",
      "Processing > trial_3 06\n",
      "Processing > trial_4 01\n",
      "Processing > trial_4 02\n",
      "Processing > trial_4 03\n",
      "Processing > trial_4 04\n",
      "Processing > trial_4 05\n",
      "Processing > trial_4 06\n",
      "Processing > trial_4 07\n"
     ]
    }
   ],
   "source": [
    "for trial in os.listdir(os.path.join(dataset_dir, experiment)):\n",
    "    \n",
    "    if not trial.startswith(\"trial\"):\n",
    "        continue\n",
    "    \n",
    "    for subject in os.listdir(os.path.join(dataset_dir, experiment, trial, \"secondary\")):\n",
    "        for sequence in os.listdir(os.path.join(dataset_dir, experiment, trial, \"secondary\", subject)):\n",
    "            print(f\"Processing > {trial} {sequence}\")\n",
    "            motion_dir = os.path.join(dataset_dir, experiment, trial, \"secondary\", subject, sequence, \"motion\")\n",
    "            sequence_dir = os.path.join(dataset_dir, experiment, trial, \"secondary\", subject, sequence, \"frames\")\n",
    "            feature_dir = os.path.join(features_dir, experiment, trial, \"0.08\", subject, sequence)\n",
    "\n",
    "            sequence_ts = fread.get_timstamps_from_images(sequence_dir, ext=\".depth.png\")\n",
    "\n",
    "            accel_df = pd.read_csv(os.path.join(motion_dir, \"accel.csv\"))\n",
    "            gyro_df = pd.read_csv(os.path.join(motion_dir, \"gyro.csv\"))\n",
    "\n",
    "            accel_df.drop_duplicates(\"timestamp\", inplace=True)\n",
    "            gyro_df.drop_duplicates(\"timestamp\", inplace=True)\n",
    "            imu_df = pd.merge(accel_df, gyro_df, on=\"timestamp\", suffixes=(\"a\", \"g\"))\n",
    "\n",
    "            frame_rate = accel_df.shape[0] / (accel_df.timestamp.values[-1] - accel_df.timestamp.values[0]) * 1000\n",
    "            win_len = int(frame_rate * calib_period)\n",
    "\n",
    "            # remove first row as the dt is 0\n",
    "            imu_df = imu_df.iloc[1:]\n",
    "            # reset index in pandas data frame\n",
    "            imu_df.reset_index(drop=True, inplace=True)\n",
    "\n",
    "            imu_df = imu_df.iloc[win_len:].copy()\n",
    "\n",
    "            # load ground truth trajectory\n",
    "            start_t = np.where(sequence_ts == functions.nearest(sequence_ts, imu_df.timestamp.values[0]))[0][0]\n",
    "\n",
    "            sequence_ts = sequence_ts[start_t:]\n",
    "            for t in sequence_ts[:start_t]:\n",
    "                if os.path.exists(os.path.join(sequence_dir, f\"frame-{t}.depth.png\")):\n",
    "                    os.remove(os.path.join(sequence_dir, f\"frame-{t}.depth.png\"))\n",
    "                if os.path.exists(os.path.join(sequence_dir, f\"frame-{t}.color.png\")):\n",
    "                    os.remove(os.path.join(sequence_dir, f\"frame-{t}.color.png\"))\n",
    "                if os.path.exists(os.path.join(feature_dir, f\"{t}.global.npz\")):\n",
    "                    os.remove(os.path.join(feature_dir, f\"{t}.global.npz\"))\n",
    "                if os.path.exists(os.path.join(feature_dir, f\"{t}.secondary.npz\")):\n",
    "                    os.remove(os.path.join(feature_dir, f\"{t}.secondary.npz\"))    "
   ]
  },
  {
   "cell_type": "code",
   "execution_count": 18,
   "metadata": {},
   "outputs": [
    {
     "name": "stdout",
     "output_type": "stream",
     "text": [
      "Duration: 23.429 seconds\n",
      "Duration: 23.495 seconds\n",
      "Duration: 23.46 seconds\n",
      "Duration: 23.494 seconds\n",
      "Duration: 23.494 seconds\n"
     ]
    }
   ],
   "source": [
    "sequence_dirs = glob.glob(\"data/features/exp_12/trial_1/0.05/subject-1/*\")\n",
    "\n",
    "for sequence_dir in sequence_dirs:\n",
    "    # sequence_ts = fread.get_timstamps_from_images(sequence_dir, ext=\".depth.png\")\n",
    "    sequence_ts = fread.get_timstamps(sequence_dir, ext=\".secondary.npz\")\n",
    "\n",
    "    duration = (sequence_ts[-1] - sequence_ts[0]) / 1000\n",
    "    print(f\"Duration: {duration} seconds\")"
   ]
  },
  {
   "cell_type": "code",
   "execution_count": 21,
   "metadata": {},
   "outputs": [
    {
     "name": "stdout",
     "output_type": "stream",
     "text": [
      "FPS: 27.743394937897477\n",
      "FPS: 27.79314747818685\n",
      "FPS: 26.08695652173913\n",
      "FPS: 27.70920234953605\n",
      "FPS: 27.70920234953605\n"
     ]
    }
   ],
   "source": [
    "# sequence_dirs = glob.glob(\"data/point_clouds/exp_12/trial_1/subject-1/*\")\n",
    "sequence_dirs = glob.glob(\"data/features/exp_12/trial_1/0.03/subject-1/*\")\n",
    "\n",
    "for sequence_dir in sequence_dirs:\n",
    "    # sequence_ts = fread.get_timstamps_from_images(sequence_dir, ext=\".depth.png\")\n",
    "    sequence_ts = fread.get_timstamps(sequence_dir, ext=\".secondary.npz\")\n",
    "\n",
    "    delta = np.diff(sequence_ts)\n",
    "    fps = 1000 / np.mean(delta)\n",
    "    \n",
    "    print(f\"FPS: {fps}\")"
   ]
  },
  {
   "cell_type": "code",
   "execution_count": 2,
   "metadata": {},
   "outputs": [
    {
     "ename": "KeyboardInterrupt",
     "evalue": "",
     "output_type": "error",
     "traceback": [
      "\u001b[1;31m---------------------------------------------------------------------------\u001b[0m",
      "\u001b[1;31mKeyboardInterrupt\u001b[0m                         Traceback (most recent call last)",
      "\u001b[1;32m~\\AppData\\Local\\Temp/ipykernel_7352/4237610223.py\u001b[0m in \u001b[0;36m<module>\u001b[1;34m\u001b[0m\n\u001b[0;32m      3\u001b[0m \u001b[1;32mfor\u001b[0m \u001b[0mfragment\u001b[0m \u001b[1;32min\u001b[0m \u001b[0mfragments\u001b[0m\u001b[1;33m:\u001b[0m\u001b[1;33m\u001b[0m\u001b[1;33m\u001b[0m\u001b[0m\n\u001b[0;32m      4\u001b[0m     \u001b[0mpcd\u001b[0m \u001b[1;33m=\u001b[0m \u001b[0mopen3d\u001b[0m\u001b[1;33m.\u001b[0m\u001b[0mio\u001b[0m\u001b[1;33m.\u001b[0m\u001b[0mread_point_cloud\u001b[0m\u001b[1;33m(\u001b[0m\u001b[0mfragment\u001b[0m\u001b[1;33m)\u001b[0m\u001b[1;33m\u001b[0m\u001b[1;33m\u001b[0m\u001b[0m\n\u001b[1;32m----> 5\u001b[1;33m     \u001b[0mopen3d\u001b[0m\u001b[1;33m.\u001b[0m\u001b[0mvisualization\u001b[0m\u001b[1;33m.\u001b[0m\u001b[0mdraw_geometries\u001b[0m\u001b[1;33m(\u001b[0m\u001b[1;33m[\u001b[0m\u001b[0mpcd\u001b[0m\u001b[1;33m]\u001b[0m\u001b[1;33m)\u001b[0m\u001b[1;33m\u001b[0m\u001b[1;33m\u001b[0m\u001b[0m\n\u001b[0m",
      "\u001b[1;31mKeyboardInterrupt\u001b[0m: "
     ]
    }
   ],
   "source": [
    "fragments = glob.glob(\"data/fragments/exp_13/*.pcd\")\n",
    "\n",
    "for fragment in fragments:\n",
    "    pcd = open3d.io.read_point_cloud(fragment)\n",
    "    open3d.visualization.draw_geometries([pcd])"
   ]
  },
  {
   "cell_type": "code",
   "execution_count": 24,
   "metadata": {},
   "outputs": [
    {
     "data": {
      "text/plain": [
       "50"
      ]
     },
     "execution_count": 24,
     "metadata": {},
     "output_type": "execute_result"
    }
   ],
   "source": [
    "len(fragments)"
   ]
  }
 ],
 "metadata": {
  "kernelspec": {
   "display_name": "lidar",
   "language": "python",
   "name": "python3"
  },
  "language_info": {
   "codemirror_mode": {
    "name": "ipython",
    "version": 3
   },
   "file_extension": ".py",
   "mimetype": "text/x-python",
   "name": "python",
   "nbconvert_exporter": "python",
   "pygments_lexer": "ipython3",
   "version": "3.7.9"
  },
  "orig_nbformat": 4
 },
 "nbformat": 4,
 "nbformat_minor": 2
}
