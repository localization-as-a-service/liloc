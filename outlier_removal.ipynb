{
 "cells": [
  {
   "cell_type": "code",
   "execution_count": 1,
   "metadata": {},
   "outputs": [],
   "source": [
    "import os\n",
    "import shutil\n",
    "import open3d\n",
    "import numpy as np\n",
    "import tqdm\n",
    "import glob\n",
    "import copy\n",
    "\n",
    "import utils.registration as registration\n",
    "import utils.pointcloud as pointcloud\n",
    "import utils.fread as fread\n",
    "import utils.functions as functions\n",
    "\n",
    "from utils.depth_camera import DepthCamera"
   ]
  },
  {
   "cell_type": "code",
   "execution_count": 4,
   "metadata": {},
   "outputs": [],
   "source": [
    "depth_camera = DepthCamera(metadata=\"../local-registration/data/raw_data/exp_11/metadata/device-3-aligned.json\", name=\"device-3-aligned\")"
   ]
  },
  {
   "cell_type": "code",
   "execution_count": 4,
   "metadata": {},
   "outputs": [],
   "source": [
    "depth_img_file = \"../local-registration/data/raw_data/exp_11/trial_1/secondary/subject-1/02/frames/frame-1680509281682.depth.png\"\n",
    "\n",
    "pcd = depth_camera.depth_to_point_cloud(depth_img_file)"
   ]
  },
  {
   "cell_type": "code",
   "execution_count": 32,
   "metadata": {},
   "outputs": [],
   "source": [
    "pcd = copy.deepcopy(pcd)\n",
    "\n",
    "pcd = open3d.geometry.voxel_down_sample(pcd, 0.03)\n",
    "\n",
    "# x = open3d.geometry.uniform_down_sample(x, every_k_points=5)\n",
    "\n",
    "_, ind = open3d.geometry.statistical_outlier_removal(pcd, nb_neighbors=80, std_ratio=0.5)\n",
    "pcd = open3d.geometry.select_down_sample(pcd, ind)"
   ]
  },
  {
   "cell_type": "code",
   "execution_count": 33,
   "metadata": {},
   "outputs": [],
   "source": [
    "pointcloud.view(pcd)"
   ]
  },
  {
   "cell_type": "code",
   "execution_count": 11,
   "metadata": {},
   "outputs": [],
   "source": [
    "def display_inlier_outlier(cloud, ind):\n",
    "    inlier_cloud = open3d.geometry.select_down_sample(cloud, ind)\n",
    "    outlier_cloud = open3d.geometry.select_down_sample(cloud, ind, invert=True)\n",
    "\n",
    "    outlier_cloud.paint_uniform_color([1, 0, 0])\n",
    "    inlier_cloud.paint_uniform_color([0.8, 0.8, 0.8])\n",
    "    \n",
    "    open3d.visualization.draw_geometries([inlier_cloud, outlier_cloud])"
   ]
  },
  {
   "cell_type": "code",
   "execution_count": 12,
   "metadata": {},
   "outputs": [],
   "source": [
    "def remove_outliers(pcd, nb_neighbors=80, std_ratio=0.5):\n",
    "    _, ind = open3d.geometry.statistical_outlier_removal(pcd, nb_neighbors=nb_neighbors, std_ratio=std_ratio)\n",
    "    return open3d.geometry.select_down_sample(pcd, ind)"
   ]
  },
  {
   "cell_type": "code",
   "execution_count": 14,
   "metadata": {},
   "outputs": [],
   "source": [
    "dataset_dir = \"../local-registration/data/raw_data/exp_10/trial_1/secondary/subject-1/02/frames\"\n",
    "\n",
    "files = np.random.choice(glob.glob(os.path.join(dataset_dir, \"*.depth.png\")), 10, replace=False)"
   ]
  },
  {
   "cell_type": "code",
   "execution_count": 13,
   "metadata": {},
   "outputs": [],
   "source": [
    "for file in files:\n",
    "    pcd = depth_camera.depth_to_point_cloud(file)\n",
    "    \n",
    "    x = copy.deepcopy(pcd)\n",
    "    x = open3d.geometry.voxel_down_sample(x, 0.03)\n",
    "    x = remove_outliers(x)\n",
    "    pointcloud.view(x)\n",
    "    \n",
    "    # display_inlier_outlier(x, ind)"
   ]
  },
  {
   "cell_type": "code",
   "execution_count": 15,
   "metadata": {},
   "outputs": [],
   "source": [
    "for file in files:\n",
    "    pcd = depth_camera.depth_to_point_cloud(file)\n",
    "    pointcloud.view(pcd)"
   ]
  },
  {
   "cell_type": "code",
   "execution_count": null,
   "metadata": {},
   "outputs": [],
   "source": []
  }
 ],
 "metadata": {
  "kernelspec": {
   "display_name": "lidar",
   "language": "python",
   "name": "python3"
  },
  "language_info": {
   "codemirror_mode": {
    "name": "ipython",
    "version": 3
   },
   "file_extension": ".py",
   "mimetype": "text/x-python",
   "name": "python",
   "nbconvert_exporter": "python",
   "pygments_lexer": "ipython3",
   "version": "3.7.9"
  },
  "orig_nbformat": 4
 },
 "nbformat": 4,
 "nbformat_minor": 2
}
