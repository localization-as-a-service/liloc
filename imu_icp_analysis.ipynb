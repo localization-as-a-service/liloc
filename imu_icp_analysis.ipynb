{
 "cells": [
  {
   "cell_type": "code",
   "execution_count": 1,
   "metadata": {},
   "outputs": [],
   "source": [
    "import open3d\n",
    "import numpy as np\n",
    "import pandas as pd\n",
    "import os\n",
    "import tqdm\n",
    "import copy\n",
    "\n",
    "import matplotlib.pyplot as plt\n",
    "import utils.registration as registration\n",
    "import utils.functions as functions\n",
    "import utils.transform as transform\n",
    "import utils.pointcloud as pointcloud\n",
    "import utils.fread as fread\n",
    "import utils.FCGF as FCGF\n",
    "\n",
    "from utils.config import Config\n",
    "from scipy.ndimage import gaussian_filter1d"
   ]
  },
  {
   "cell_type": "code",
   "execution_count": 13,
   "metadata": {},
   "outputs": [],
   "source": [
    "config = Config(\n",
    "    sequence_dir=\"data/raw_data\",\n",
    "    feature_dir=\"data/features\",\n",
    "    output_dir=\"data/trajectories/local/FPFH_outlier_removed\",\n",
    "    experiment=\"exp_12\",\n",
    "    trial=\"trial_1\",\n",
    "    subject=\"subject-1\",\n",
    "    sequence=\"01\",\n",
    "    groundtruth_dir=\"data/trajectories/groundtruth\",\n",
    ")\n",
    "\n",
    "config.voxel_size=0.05\n",
    "config.target_fps=20\n",
    "config.min_std=0.5"
   ]
  },
  {
   "cell_type": "code",
   "execution_count": 14,
   "metadata": {},
   "outputs": [
    {
     "name": "stderr",
     "output_type": "stream",
     "text": [
      "100%|██████████| 419/419 [00:06<00:00, 64.12it/s]\n"
     ]
    }
   ],
   "source": [
    "output_file = config.get_output_file(f\"{config.get_file_name()}.npz\")\n",
    "\n",
    "data = np.load(output_file)\n",
    "\n",
    "sequence_ts = data[\"sequence_ts\"]\n",
    "trajectory_t = data[\"trajectory_t\"]\n",
    "local_t = data[\"local_t\"]\n",
    "\n",
    "feature_dir = config.get_feature_dir()\n",
    "\n",
    "num_frames = len(sequence_ts)\n",
    "\n",
    "local_pcds = []\n",
    "\n",
    "for t in tqdm.trange(num_frames):\n",
    "    if np.sum(local_t[t]) == 4:\n",
    "        continue\n",
    "    \n",
    "    feature_file = os.path.join(feature_dir, f\"{sequence_ts[t]}.secondary.npz\")\n",
    "    pcd = FCGF.get_features(feature_file, config.voxel_size, pcd_only=True)\n",
    "    pcd.paint_uniform_color(pointcloud.random_color())\n",
    "    pcd.transform(trajectory_t[t])\n",
    "    local_pcds.append(pcd)\n",
    "    \n",
    "trajectory_pcd = pointcloud.merge_pcds(local_pcds, config.voxel_size)\n"
   ]
  },
  {
   "cell_type": "code",
   "execution_count": 26,
   "metadata": {},
   "outputs": [],
   "source": [
    "pointcloud.view(trajectory_pcd)"
   ]
  },
  {
   "cell_type": "code",
   "execution_count": 15,
   "metadata": {},
   "outputs": [],
   "source": [
    "xyz = trajectory_t[:, :3, 3]"
   ]
  },
  {
   "cell_type": "code",
   "execution_count": 16,
   "metadata": {},
   "outputs": [
    {
     "data": {
      "text/plain": [
       "[<matplotlib.lines.Line2D at 0x22e1c1d6b88>]"
      ]
     },
     "execution_count": 16,
     "metadata": {},
     "output_type": "execute_result"
    },
    {
     "data": {
      "image/png": "[encoded data removed]",
      "text/plain": [
       "<Figure size 432x288 with 1 Axes>"
      ]
     },
     "metadata": {
      "needs_background": "light"
     },
     "output_type": "display_data"
    }
   ],
   "source": [
    "plt.plot(xyz[:, 0], xyz[:, 2], 'r.')"
   ]
  },
  {
   "cell_type": "code",
   "execution_count": 24,
   "metadata": {},
   "outputs": [],
   "source": [
    "config = Config(\n",
    "    sequence_dir=\"data/raw_data\",\n",
    "    feature_dir=\"data/features\",\n",
    "    output_dir=\"data/trajectories/trajectory/IMU_PCD_outlier_removed_0.05\",\n",
    "    experiment=\"exp_12\",\n",
    "    trial=\"trial_1\",\n",
    "    subject=\"subject-1\",\n",
    "    sequence=\"01\",\n",
    "    groundtruth_dir=\"data/trajectories/groundtruth\",\n",
    ")\n",
    "\n",
    "config.voxel_size=0.05\n",
    "config.target_fps=20\n",
    "config.min_std=0.5\n",
    "\n",
    "output_file = config.get_output_file(f\"{config.get_file_name()}.npz\")\n",
    "\n",
    "data = np.load(output_file)\n",
    "\n",
    "global_t = data[\"global_t\"]"
   ]
  },
  {
   "cell_type": "code",
   "execution_count": 27,
   "metadata": {},
   "outputs": [],
   "source": [
    "methods = [\"FPFH_outlier_removed\", \"FPFH_outlier_removed_0.05\", \"IMU_PCD_outlier_removed\", \"IMU_PCD_outlier_removed_0.05\"]"
   ]
  },
  {
   "cell_type": "code",
   "execution_count": 51,
   "metadata": {},
   "outputs": [],
   "source": [
    "def plot(config: Config, methods: list):\n",
    "    plt.figure(figsize=(10, 10))\n",
    "    for m in methods:\n",
    "        config.output_dir = f\"data/trajectories/trajectory/{m}\"\n",
    "        \n",
    "        data = np.load(config.get_output_file(f\"{config.get_file_name()}.npz\"))\n",
    "        global_t = data[\"global_t\"]\n",
    "        \n",
    "        xyz = global_t[:, :3, 3]\n",
    "        plt.plot(xyz[:, 0], xyz[:, 2], '.', label=m)\n",
    "        \n",
    "    plt.legend()\n",
    "    plt.title(config.get_file_name())\n",
    "    plt.savefig(f\"results/trajectories/{config.get_file_name()}.jpg\")\n",
    "    plt.close()"
   ]
  },
  {
   "cell_type": "code",
   "execution_count": 52,
   "metadata": {},
   "outputs": [
    {
     "name": "stdout",
     "output_type": "stream",
     "text": [
      "Processing: exp_12 >> trial_1 >> subject-1 >> 01\n",
      "Processing: exp_12 >> trial_1 >> subject-1 >> 02\n",
      "Processing: exp_12 >> trial_1 >> subject-1 >> 03\n",
      "Processing: exp_12 >> trial_1 >> subject-1 >> 04\n",
      "Processing: exp_12 >> trial_1 >> subject-1 >> 05\n",
      "Processing: exp_12 >> trial_2 >> subject-1 >> 01\n",
      "Processing: exp_12 >> trial_2 >> subject-1 >> 02\n",
      "Processing: exp_12 >> trial_2 >> subject-1 >> 03\n",
      "Processing: exp_12 >> trial_2 >> subject-1 >> 04\n",
      "Processing: exp_12 >> trial_2 >> subject-1 >> 05\n",
      "Processing: exp_12 >> trial_3 >> subject-1 >> 01\n",
      "Processing: exp_12 >> trial_3 >> subject-1 >> 02\n",
      "Processing: exp_12 >> trial_3 >> subject-1 >> 03\n",
      "Processing: exp_12 >> trial_3 >> subject-1 >> 04\n",
      "Processing: exp_12 >> trial_3 >> subject-1 >> 05\n"
     ]
    }
   ],
   "source": [
    "config = Config(\n",
    "    sequence_dir=\"data/raw_data\",\n",
    "    feature_dir=\"data/features\",\n",
    "    output_dir=\"data/trajectories/trajectory/FPFH_outlier_removed_0.05\",\n",
    "    experiment=\"exp_12\",\n",
    "    trial=\"trial_2\",\n",
    "    subject=\"subject-1\",\n",
    "    sequence=\"02\",\n",
    "    groundtruth_dir=\"data/trajectories/groundtruth\",\n",
    ")\n",
    "\n",
    "config.voxel_size=0.05\n",
    "config.target_fps=20\n",
    "config.min_std=0.5\n",
    "\n",
    "for trial in os.listdir(os.path.join(config.feature_dir, config.experiment)):\n",
    "    config.trial = trial\n",
    "    for subject in os.listdir(os.path.join(config.feature_dir, config.experiment, config.trial, str(config.voxel_size))):\n",
    "        config.subject = subject    \n",
    "        for sequence in os.listdir(os.path.join(config.feature_dir, config.experiment, config.trial, str(config.voxel_size), config.subject)):\n",
    "            config.sequence = sequence\n",
    "            print(f\"Processing: {config.experiment} >> {config.trial} >> {config.subject} >> {config.sequence}\")\n",
    "            plot(config, methods)"
   ]
  },
  {
   "cell_type": "code",
   "execution_count": null,
   "metadata": {},
   "outputs": [],
   "source": []
  }
 ],
 "metadata": {
  "kernelspec": {
   "display_name": "lidar",
   "language": "python",
   "name": "python3"
  },
  "language_info": {
   "codemirror_mode": {
    "name": "ipython",
    "version": 3
   },
   "file_extension": ".py",
   "mimetype": "text/x-python",
   "name": "python",
   "nbconvert_exporter": "python",
   "pygments_lexer": "ipython3",
   "version": "3.7.9"
  },
  "orig_nbformat": 4
 },
 "nbformat": 4,
 "nbformat_minor": 2
}
