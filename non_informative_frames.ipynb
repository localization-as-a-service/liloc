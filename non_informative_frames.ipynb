{
 "cells": [
  {
   "cell_type": "code",
   "execution_count": 7,
   "metadata": {},
   "outputs": [],
   "source": [
    "import open3d\n",
    "import numpy as np\n",
    "import pandas as pd\n",
    "import os\n",
    "import tqdm\n",
    "import copy\n",
    "\n",
    "import matplotlib.pyplot as plt\n",
    "import utils.registration as registration\n",
    "import utils.functions as functions\n",
    "import utils.transform as transform\n",
    "import utils.pointcloud as pointcloud\n",
    "import utils.fread as fread\n",
    "import utils.FCGF as FCGF\n",
    "\n",
    "from utils.config import Config\n",
    "\n",
    "from scipy.signal import argrelmin, argrelmax"
   ]
  },
  {
   "cell_type": "code",
   "execution_count": 9,
   "metadata": {},
   "outputs": [],
   "source": [
    "config = Config(\n",
    "        sequence_dir=\"data/raw_data\",\n",
    "        feature_dir=\"data/features\",\n",
    "        output_dir=\"results/std_values\",\n",
    "        experiment=\"exp_12\",\n",
    "        trial=\"trial_1\",\n",
    "        subject=\"subject-1\",\n",
    "        sequence=\"01\",\n",
    "        groundtruth_dir=\"data/trajectories/groundtruth\",\n",
    "    )\n",
    "    \n",
    "config.voxel_size=0.03\n",
    "config.target_fps=20\n",
    "config.min_std=0.5\n",
    "config.cutoff_margin=5"
   ]
  },
  {
   "cell_type": "code",
   "execution_count": 14,
   "metadata": {},
   "outputs": [],
   "source": [
    "def plot_std_cutoffs(config: Config):\n",
    "    sequence_ts = fread.get_timstamps_from_images(config.get_sequence_dir(), \".depth.png\")\n",
    "    # sequence_ts = fread.sample_timestamps(sequence_ts, config.target_fps)\n",
    "\n",
    "    # calculate the standard deviation of the depth data\n",
    "    std_values = []\n",
    "\n",
    "    for t in range(len(sequence_ts)):\n",
    "        depth_img_file = os.path.join(config.get_sequence_dir(), f\"frame-{sequence_ts[t]}.depth.png\")\n",
    "        std_values.append(registration.calc_std(depth_img_file, 4000))\n",
    "        \n",
    "    std_values = np.array(std_values)\n",
    "        \n",
    "    cutoffs = registration.get_cutoff_sequence(std_values, config.target_fps, config.min_std, config.threshold, config.cutoff_margin)\n",
    "\n",
    "    min_indices = argrelmin(std_values, order=config.target_fps // 2)[0]\n",
    "    min_indices = min_indices[np.where(np.abs(std_values[min_indices] - config.min_std) < config.threshold)[0]]\n",
    "\n",
    "    plt.figure(figsize=(20, 6))\n",
    "    plt.plot(std_values)\n",
    "\n",
    "    plt.scatter(min_indices, std_values[min_indices], c=\"b\", marker=\"x\")\n",
    "\n",
    "    for x in min_indices:\n",
    "        plt.axvline(x, c=\"b\", linestyle=\"--\")\n",
    "\n",
    "    plt.axhline(y=0.5, color=\"r\", linestyle=\"--\")\n",
    "    plt.ylim(0, 4)\n",
    "    plt.xlim(0, len(std_values))\n",
    "\n",
    "    plt.xlabel(\"Frame #\")\n",
    "    plt.ylabel(\"Std. of Distances to the camera\")\n",
    "    plt.savefig(config.get_output_file(f\"{config.get_file_name()}.jpeg\"))\n",
    "    plt.close()"
   ]
  },
  {
   "cell_type": "code",
   "execution_count": 15,
   "metadata": {},
   "outputs": [
    {
     "name": "stdout",
     "output_type": "stream",
     "text": [
      "Processing: exp_12 >> trial_1 >> subject-1 >> 01\n",
      "Processing: exp_12 >> trial_1 >> subject-1 >> 02\n",
      "Processing: exp_12 >> trial_1 >> subject-1 >> 03\n",
      "Processing: exp_12 >> trial_1 >> subject-1 >> 04\n",
      "Processing: exp_12 >> trial_1 >> subject-1 >> 05\n",
      "Processing: exp_12 >> trial_2 >> subject-1 >> 01\n",
      "Processing: exp_12 >> trial_2 >> subject-1 >> 02\n",
      "Processing: exp_12 >> trial_2 >> subject-1 >> 03\n",
      "Processing: exp_12 >> trial_2 >> subject-1 >> 04\n",
      "Processing: exp_12 >> trial_2 >> subject-1 >> 05\n",
      "Processing: exp_12 >> trial_3 >> subject-1 >> 01\n",
      "Processing: exp_12 >> trial_3 >> subject-1 >> 02\n",
      "Processing: exp_12 >> trial_3 >> subject-1 >> 03\n",
      "Processing: exp_12 >> trial_3 >> subject-1 >> 04\n",
      "Processing: exp_12 >> trial_3 >> subject-1 >> 05\n"
     ]
    }
   ],
   "source": [
    "for trial in os.listdir(os.path.join(config.feature_dir, config.experiment)):\n",
    "    config.trial = trial\n",
    "    for subject in os.listdir(os.path.join(config.feature_dir, config.experiment, config.trial, str(config.voxel_size))):\n",
    "        config.subject = subject    \n",
    "        for sequence in os.listdir(os.path.join(config.feature_dir, config.experiment, config.trial, str(config.voxel_size), config.subject)):\n",
    "            config.sequence = sequence\n",
    "            print(f\"Processing: {config.experiment} >> {config.trial} >> {config.subject} >> {config.sequence}\")\n",
    "            plot_std_cutoffs(config)"
   ]
  }
 ],
 "metadata": {
  "kernelspec": {
   "display_name": "lidar",
   "language": "python",
   "name": "python3"
  },
  "language_info": {
   "codemirror_mode": {
    "name": "ipython",
    "version": 3
   },
   "file_extension": ".py",
   "mimetype": "text/x-python",
   "name": "python",
   "nbconvert_exporter": "python",
   "pygments_lexer": "ipython3",
   "version": "3.7.9"
  },
  "orig_nbformat": 4
 },
 "nbformat": 4,
 "nbformat_minor": 2
}
