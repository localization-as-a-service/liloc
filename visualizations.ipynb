{
 "cells": [
  {
   "cell_type": "code",
   "execution_count": 1,
   "metadata": {},
   "outputs": [],
   "source": [
    "import open3d\n",
    "import numpy as np\n",
    "import pandas as pd\n",
    "import matplotlib.pyplot as plt\n",
    "import os\n",
    "import glob\n",
    "import tqdm\n",
    "import copy\n",
    "import cv2\n",
    "\n",
    "import utils.registration as registration\n",
    "import utils.fread as fread\n",
    "import utils.transform as transform\n",
    "import utils.grid_search as grid_search\n",
    "import utils.pointcloud as pointcloud\n",
    "import utils.functions as functions\n",
    "import utils.FCGF as FCGF\n",
    "\n",
    "from time import sleep\n",
    "from PIL import Image\n",
    "from utils.config import Config"
   ]
  },
  {
   "cell_type": "code",
   "execution_count": 25,
   "metadata": {},
   "outputs": [],
   "source": [
    "config = Config(\n",
    "        sequence_dir=\"data/raw_data\",\n",
    "        feature_dir=\"data/features\",\n",
    "        output_dir=\"data/trajectories/trajectory/FPFH_outlier_removed\",\n",
    "        experiment=\"exp_12\",\n",
    "        trial=\"trial_1\",\n",
    "        subject=\"subject-1\",\n",
    "        sequence=\"03\",\n",
    "        groundtruth_dir=\"data/trajectories/groundtruth\",\n",
    "    )\n",
    "    \n",
    "config.voxel_size=0.03\n",
    "config.target_fps=20\n",
    "config.min_std=0.5"
   ]
  },
  {
   "cell_type": "code",
   "execution_count": 40,
   "metadata": {},
   "outputs": [
    {
     "name": "stderr",
     "output_type": "stream",
     "text": [
      "100%|██████████| 613/613 [00:04<00:00, 148.27it/s]\n",
      "100%|██████████| 613/613 [00:28<00:00, 21.75it/s]\n"
     ]
    }
   ],
   "source": [
    "sequence_ts = fread.get_timstamps(config.get_feature_dir(), ext=\".secondary.npz\")\n",
    "\n",
    "groundtruth_data = np.load(os.path.join(config.get_groundtruth_dir(), f\"{config.get_file_name()}.gtpose.npz\"))\n",
    "groundtruth_t = groundtruth_data[\"local_t\"]\n",
    "\n",
    "num_frames = len(sequence_ts)\n",
    "\n",
    "local_pcds = []\n",
    "\n",
    "for t in tqdm.trange(num_frames):\n",
    "    feature_file = os.path.join(config.get_feature_dir(), f\"{sequence_ts[t]}.secondary.npz\")\n",
    "    pcd = FCGF.get_features(feature_file, config.voxel_size, pcd_only=True)\n",
    "    local_pcds.append(pcd)\n",
    "\n",
    "global_pcds = []\n",
    "\n",
    "for t in tqdm.trange(num_frames):\n",
    "    feature_file = os.path.join(config.get_feature_dir(), f\"{sequence_ts[t]}.global.npz\")\n",
    "    pcd = FCGF.get_features(feature_file, config.voxel_size, pcd_only=True)\n",
    "    global_pcds.append(pcd)"
   ]
  },
  {
   "cell_type": "code",
   "execution_count": 31,
   "metadata": {},
   "outputs": [],
   "source": [
    "fragments_gt = []\n",
    "\n",
    "for t in range(0, num_frames, 10):\n",
    "    local_temp = copy.deepcopy(local_pcds[t])\n",
    "    local_temp.transform(groundtruth_t[t])\n",
    "    fragments_gt.append(local_temp)\n",
    "    \n",
    "    if t == 0:\n",
    "        continue\n",
    "    \n",
    "    cpoints = np.asarray(local_temp.points)\n",
    "    cx, cy = cpoints[:, 0], cpoints[:, 2]\n",
    "\n",
    "    plt.scatter(gx, gy, s=0.1, c=\"g\")\n",
    "    plt.scatter(cx, cy, s=0.1, c=\"r\")\n",
    "    plt.xlim(-4.5, 4)\n",
    "    plt.ylim(-5.5, 4.5)\n",
    "    plt.gca().set_aspect('equal', adjustable='box')\n",
    "    plt.axis(\"off\")\n",
    "    \n",
    "    plt.savefig(f\"results/presentation/local/{t:03d}.jpeg\")\n",
    "    plt.close()\n",
    "    \n",
    "    trajectory = pointcloud.merge_pcds(fragments_gt, 0.03)\n",
    "\n",
    "    points = np.asarray(trajectory.points)\n",
    "    gx, gy = points[:, 0], points[:, 2]"
   ]
  },
  {
   "cell_type": "code",
   "execution_count": 38,
   "metadata": {},
   "outputs": [
    {
     "name": "stderr",
     "output_type": "stream",
     "text": [
      "100%|██████████| 60/60 [00:00<00:00, 3082.20it/s]\n"
     ]
    }
   ],
   "source": [
    "img_files = glob.glob(\"results/presentation/local/*.jpeg\")\n",
    "img_files = sorted(img_files, key=lambda x: int(os.path.basename(x).split(\".\")[0]))\n",
    "images = []\n",
    "\n",
    "for t in range(len(img_files)):\n",
    "    img = cv2.imread(img_files[t])\n",
    "    images.append(img)\n",
    "\n",
    "video = cv2.VideoWriter(f\"results/presentation/local/video.avi\", cv2.VideoWriter_fourcc(*'XVID'), 10, (432, 288))\n",
    "for image in tqdm.tqdm(images):\n",
    "    video.write(image)\n",
    "\n",
    "video.release()"
   ]
  },
  {
   "cell_type": "code",
   "execution_count": 41,
   "metadata": {},
   "outputs": [],
   "source": [
    "for t in range(0, num_frames, 10):\n",
    "    local_temp = copy.deepcopy(local_pcds[t])\n",
    "    local_temp.transform(groundtruth_t[t])\n",
    "    fragments_gt.append(local_temp)\n",
    "    \n",
    "    cpoints = np.asarray(local_temp.points)\n",
    "    cx, cy = cpoints[:, 0], cpoints[:, 2]\n",
    "    \n",
    "    gpoints = np.asarray(global_pcds[t].points)\n",
    "    gx, gy = gpoints[:, 0], gpoints[:, 2]\n",
    "\n",
    "    plt.scatter(gx, gy, s=0.1, c=\"b\")\n",
    "    plt.scatter(cx, cy, s=0.1, c=\"r\")\n",
    "    plt.xlim(-4.5, 4)\n",
    "    plt.ylim(-5.5, 4.5)\n",
    "    plt.gca().set_aspect('equal', adjustable='box')\n",
    "    plt.axis(\"off\")\n",
    "    \n",
    "    plt.savefig(f\"results/presentation/global/{t:03d}.jpeg\")\n",
    "    plt.close()"
   ]
  },
  {
   "cell_type": "code",
   "execution_count": 47,
   "metadata": {},
   "outputs": [
    {
     "name": "stderr",
     "output_type": "stream",
     "text": [
      "100%|██████████| 61/61 [00:00<00:00, 1626.98it/s]\n"
     ]
    }
   ],
   "source": [
    "img_files = glob.glob(\"results/presentation/grid_ransac/*.jpeg\")\n",
    "img_files = sorted(img_files, key=lambda x: int(os.path.basename(x).split(\".\")[0]))\n",
    "images = []\n",
    "\n",
    "for t in range(len(img_files)):\n",
    "    img = cv2.imread(img_files[t])\n",
    "    images.append(img)\n",
    "\n",
    "video = cv2.VideoWriter(f\"results/presentation/grid_ransac/video.avi\", cv2.VideoWriter_fourcc(*'XVID'), 10, (432, 288))\n",
    "for image in tqdm.tqdm(images):\n",
    "    video.write(image)\n",
    "\n",
    "video.release()"
   ]
  },
  {
   "cell_type": "code",
   "execution_count": 44,
   "metadata": {},
   "outputs": [],
   "source": [
    "import utils.grid_search_unopt as grid_search"
   ]
  },
  {
   "cell_type": "code",
   "execution_count": 46,
   "metadata": {},
   "outputs": [],
   "source": [
    "for t in range(0, num_frames, 10):\n",
    "    source_feature_file = os.path.join(config.get_feature_dir(), f\"{sequence_ts[t]}.secondary.npz\")\n",
    "    target_feature_file = os.path.join(config.get_feature_dir(), f\"{sequence_ts[t]}.global.npz\")\n",
    "\n",
    "    source, target, reg_result = grid_search.global_registration(source_feature_file, target_feature_file, config.voxel_size, cell_size=2, refine_enabled=True)\n",
    "\n",
    "    if reg_result is None:\n",
    "        reg_result = np.identity(4)\n",
    "    else:\n",
    "        reg_result = reg_result.transformation\n",
    "\n",
    "    source.transform(reg_result)\n",
    "\n",
    "    cpoints = np.asarray(source.points)\n",
    "    cx, cy = cpoints[:, 0], cpoints[:, 2]\n",
    "\n",
    "    gpoints = np.asarray(target.points)\n",
    "    gx, gy = gpoints[:, 0], gpoints[:, 2]\n",
    "\n",
    "    plt.scatter(gx, gy, s=0.1, c=\"b\")\n",
    "    plt.scatter(cx, cy, s=0.1, c=\"r\")\n",
    "    plt.xlim(-4.5, 4)\n",
    "    plt.ylim(-5.5, 4.5)\n",
    "    plt.gca().set_aspect('equal', adjustable='box')\n",
    "    plt.axis(\"off\")\n",
    "\n",
    "    plt.savefig(f\"results/presentation/grid_ransac/{t:03d}.jpeg\")\n",
    "    plt.close()"
   ]
  },
  {
   "cell_type": "code",
   "execution_count": 21,
   "metadata": {},
   "outputs": [],
   "source": [
    "config = Config(\n",
    "        sequence_dir=\"D://Projects/Research/local-registration/data/raw_data\",\n",
    "        feature_dir=\"D://Projects/Research/local-registration/data/features\",\n",
    "        output_dir=\"data/trajectories/trajectory/\",\n",
    "        experiment=\"exp_8\",\n",
    "        trial=\"trial_1\",\n",
    "        subject=\"subject-1\",\n",
    "        sequence=\"02\",\n",
    "        groundtruth_dir=\"D://Projects/Research/local-registration/data/trajectories/groundtruth\",\n",
    "    )\n",
    "    \n",
    "config.voxel_size=0.03\n",
    "config.target_fps=20\n",
    "config.min_std=0.5"
   ]
  },
  {
   "cell_type": "code",
   "execution_count": 22,
   "metadata": {},
   "outputs": [
    {
     "name": "stderr",
     "output_type": "stream",
     "text": [
      "100%|██████████| 407/407 [00:02<00:00, 138.73it/s]\n"
     ]
    }
   ],
   "source": [
    "sequence_ts = fread.get_timstamps(config.get_feature_dir(), ext=\".secondary.npz\")\n",
    "\n",
    "groundtruth_data = np.load(os.path.join(config.get_groundtruth_dir(), f\"{config.get_file_name()}.pose.npz\"))\n",
    "groundtruth_t = groundtruth_data[\"trajectory_t\"]\n",
    "\n",
    "num_frames = len(sequence_ts)\n",
    "\n",
    "local_pcds = []\n",
    "\n",
    "for t in tqdm.trange(num_frames):\n",
    "    feature_file = os.path.join(config.get_feature_dir(), f\"{sequence_ts[t]}.secondary.npz\")\n",
    "    pcd = FCGF.get_features(feature_file, config.voxel_size, pcd_only=True)\n",
    "    local_pcds.append(pcd)"
   ]
  },
  {
   "cell_type": "code",
   "execution_count": 28,
   "metadata": {},
   "outputs": [],
   "source": [
    "fragments_gt = []\n",
    "\n",
    "for t in range(0, num_frames, 10):\n",
    "    local_temp = copy.deepcopy(local_pcds[t])\n",
    "    local_temp.transform(groundtruth_t[t])\n",
    "    fragments_gt.append(local_temp)\n",
    "    \n",
    "    if t == 0:\n",
    "        trajectory = pointcloud.merge_pcds(fragments_gt, 0.03)\n",
    "\n",
    "        points = np.asarray(trajectory.points)\n",
    "        gx, gy = points[:, 0], points[:, 2]\n",
    "        continue\n",
    "    \n",
    "    cpoints = np.asarray(local_temp.points)\n",
    "    cx, cy = cpoints[:, 0], cpoints[:, 2]\n",
    "    \n",
    "    plt.figure(figsize=(5, 5))\n",
    "\n",
    "    plt.scatter(gx, gy, s=0.1, c=\"#27ae60\")\n",
    "    plt.scatter(cx, cy, s=0.1, c=\"#e74c3c\")\n",
    "    # plt.xlim(-4.5, 4)\n",
    "    # plt.ylim(-5.5, 4.5)\n",
    "    plt.gca().set_aspect('equal', adjustable='box')\n",
    "    plt.axis(\"off\")\n",
    "    \n",
    "    plt.savefig(f\"results/presentation/slam/{t:03d}.jpeg\")\n",
    "    plt.close()\n",
    "    \n",
    "    trajectory = pointcloud.merge_pcds(fragments_gt, 0.03)\n",
    "\n",
    "    points = np.asarray(trajectory.points)\n",
    "    gx, gy = points[:, 0], points[:, 2]"
   ]
  },
  {
   "cell_type": "code",
   "execution_count": 31,
   "metadata": {},
   "outputs": [
    {
     "name": "stderr",
     "output_type": "stream",
     "text": [
      "100%|██████████| 40/40 [00:00<00:00, 1412.16it/s]\n"
     ]
    }
   ],
   "source": [
    "img_files = glob.glob(\"results/presentation/slam/*.jpeg\")\n",
    "img_files = sorted(img_files, key=lambda x: int(os.path.basename(x).split(\".\")[0]))\n",
    "images = []\n",
    "\n",
    "for t in range(len(img_files)):\n",
    "    img = cv2.imread(img_files[t])\n",
    "    images.append(img)\n",
    "\n",
    "video = cv2.VideoWriter(f\"results/presentation/slam/video.avi\", cv2.VideoWriter_fourcc(*'XVID'), 10, (360, 360))\n",
    "for image in tqdm.tqdm(images):\n",
    "    video.write(image)\n",
    "\n",
    "video.release()"
   ]
  },
  {
   "cell_type": "code",
   "execution_count": null,
   "metadata": {},
   "outputs": [],
   "source": []
  }
 ],
 "metadata": {
  "kernelspec": {
   "display_name": "lidar",
   "language": "python",
   "name": "python3"
  },
  "language_info": {
   "codemirror_mode": {
    "name": "ipython",
    "version": 3
   },
   "file_extension": ".py",
   "mimetype": "text/x-python",
   "name": "python",
   "nbconvert_exporter": "python",
   "pygments_lexer": "ipython3",
   "version": "3.7.9"
  },
  "orig_nbformat": 4
 },
 "nbformat": 4,
 "nbformat_minor": 2
}
