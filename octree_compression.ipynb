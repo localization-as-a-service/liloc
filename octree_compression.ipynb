{
 "cells": [
  {
   "attachments": {},
   "cell_type": "markdown",
   "metadata": {},
   "source": [
    "Source: https://github.com/szppaks/pccomp_oct"
   ]
  },
  {
   "cell_type": "code",
   "execution_count": 1,
   "metadata": {},
   "outputs": [],
   "source": [
    "import numpy as np\n",
    "import open3d as o3d\n",
    "import matplotlib.pyplot as plt\n",
    "import pandas as pd\n",
    "import pickle\n",
    "import copy\n",
    "import glob\n",
    "import tqdm\n",
    "import open3d\n",
    "import os\n",
    "import time\n",
    "import utils.registration as registration\n",
    "import utils.fread as fread\n",
    "import utils.FCGF as FCGF\n",
    "import utils.pointcloud as pointcloud"
   ]
  },
  {
   "cell_type": "code",
   "execution_count": 2,
   "metadata": {},
   "outputs": [],
   "source": [
    "def octree_compress(points, depth):\n",
    "    xmin, xmax = points[:, 0].min(), points[:, 0].max()\n",
    "    ymin, ymax = points[:, 1].min(), points[:, 1].max()\n",
    "    zmin, zmax = points[:, 2].min(), points[:, 2].max()\n",
    "    \n",
    "    xaxis = np.linspace(xmin, xmax, 2**depth + 1)\n",
    "    yaxis = np.linspace(ymin, ymax, 2**depth + 1)\n",
    "    zaxis = np.linspace(zmin, zmax, 2**depth + 1)\n",
    "    \n",
    "    xpos = np.searchsorted(xaxis, points[:, 0], side='right') - 1\n",
    "    ypos = np.searchsorted(yaxis, points[:, 1], side='right') - 1\n",
    "    zpos = np.searchsorted(zaxis, points[:, 2], side='right') - 1\n",
    "    \n",
    "    coords = xpos * (2**(depth*2)) + ypos * (2**depth) + zpos\n",
    "    \n",
    "    return coords, np.asarray([depth, xmin, xmax, ymin, ymax, zmin, zmax])\n",
    "\n",
    "def octree_decompress(coords, params):\n",
    "    depth = params[0].astype(np.int32)\n",
    "    xmin, xmax = params[1], params[2]\n",
    "    ymin, ymax = params[3], params[4]\n",
    "    zmin, zmax = params[5], params[6]\n",
    "    \n",
    "    xaxis = np.linspace(xmin, xmax, 2**depth + 1)\n",
    "    yaxis = np.linspace(ymin, ymax, 2**depth + 1)\n",
    "    zaxis = np.linspace(zmin, zmax, 2**depth + 1)\n",
    "    \n",
    "    xpos = coords // (2**(depth*2))\n",
    "    ypos = (coords - xpos * (2**(depth*2))) // (2**depth)\n",
    "    zpos = coords - xpos * (2**(depth*2)) - ypos * (2**depth)\n",
    "    \n",
    "    x = xaxis[xpos]\n",
    "    y = yaxis[ypos]\n",
    "    z = zaxis[zpos]\n",
    "    \n",
    "    return np.stack([x, y, z], axis=-1)\n",
    "\n",
    "\n",
    "def make_pcd(points):\n",
    "    pcd = o3d.geometry.PointCloud()\n",
    "    pcd.points = o3d.utility.Vector3dVector(points)\n",
    "    return pcd\n",
    "\n",
    "\n",
    "def view_registered_point_clouds(source, target, transformation):\n",
    "    p1 = copy.deepcopy(source)\n",
    "    p2 = copy.deepcopy(target)\n",
    "    \n",
    "    p1.paint_uniform_color([1, 0.706, 0])\n",
    "    p2.paint_uniform_color([0, 0.651, 0.929])\n",
    "    \n",
    "    p1.transform(transformation)\n",
    "    \n",
    "    o3d.visualization.draw_geometries([p1, p2])\n",
    "\n",
    "\n",
    "def create_features(features_data):\n",
    "    features = o3d.registration.Feature()\n",
    "    features.data = features_data.T\n",
    "    return features"
   ]
  },
  {
   "cell_type": "code",
   "execution_count": 3,
   "metadata": {},
   "outputs": [],
   "source": [
    "def find_neighbors(source, target, voxel_size=0.03):\n",
    "    matches = []\n",
    "    pcd_tree = o3d.geometry.KDTreeFlann(source)\n",
    "    target_points = np.asarray(target.points)\n",
    "    \n",
    "    for i in range(len(target.points)):\n",
    "        k, idx, _ = pcd_tree.search_radius_vector_3d(target_points[i], voxel_size)\n",
    "        if k > 0:\n",
    "            matches.append([i, idx[0]])\n",
    "            \n",
    "    return matches\n",
    "\n",
    " \n",
    "def calc_overlap_ratio(source, target, transformation, voxel_size=0.03):\n",
    "    source_temp = copy.deepcopy(source)\n",
    "    target_temp = copy.deepcopy(target)\n",
    "    \n",
    "    source_temp.transform(transformation)\n",
    "    matches = find_neighbors(source_temp, target_temp, voxel_size)\n",
    "    return len(matches) * 100 / min(len(source.points), len(target.points))"
   ]
  },
  {
   "cell_type": "code",
   "execution_count": 14,
   "metadata": {},
   "outputs": [],
   "source": [
    "def compress_and_decompress(pcd, depth):\n",
    "    points = np.asarray(pcd.points)\n",
    "    # measure the time for compression\n",
    "    start_t = time.time()\n",
    "    coords, parms = octree_compress(points, depth)\n",
    "    compression_time = time.time() - start_t\n",
    "    start_t = time.time()\n",
    "    cpoints = octree_decompress(coords, parms)\n",
    "    decompression_time = time.time() - start_t\n",
    "    return pointcloud.make_pcd(cpoints)\n",
    "    # return compression_time, decompression_time"
   ]
  },
  {
   "attachments": {},
   "cell_type": "markdown",
   "metadata": {},
   "source": [
    "## Compression on Global Registration Accuracy"
   ]
  },
  {
   "attachments": {},
   "cell_type": "markdown",
   "metadata": {},
   "source": [
    "### Preparing dataset"
   ]
  },
  {
   "cell_type": "code",
   "execution_count": 10,
   "metadata": {},
   "outputs": [],
   "source": [
    "root_feature_dir = \"data/features\"\n",
    "\n",
    "experiment = \"exp_12\"\n",
    "trial = \"trial_1\"\n",
    "subject = \"subject-1\"\n",
    "sequence = \"01\"\n",
    "\n",
    "voxel_size = 0.03\n",
    "depth = 8\n",
    "\n",
    "\n",
    "file_name = f\"{experiment}__{trial}__{subject}__{sequence}\""
   ]
  },
  {
   "cell_type": "code",
   "execution_count": 16,
   "metadata": {},
   "outputs": [
    {
     "name": "stdout",
     "output_type": "stream",
     "text": [
      "Target FPS: 27.743394937897477\n",
      "Overlap ratio too low at frame 0, \n"
     ]
    }
   ],
   "source": [
    "groundtruth_data = np.load(os.path.join(\"data/trajectories/groundtruth\", experiment, f\"{file_name}.gtpose.npz\"))\n",
    "    \n",
    "feature_dir = os.path.join(root_feature_dir, experiment, trial, str(voxel_size), subject, sequence)\n",
    "\n",
    "sequence_ts = fread.get_timstamps(feature_dir, ext=\".secondary.npz\")\n",
    "delta = (sequence_ts[1:] - sequence_ts[:-1])\n",
    "target_fps = 1e3 / np.mean(delta)\n",
    "\n",
    "print(f\"Target FPS: {target_fps}\")\n",
    "num_frames = len(sequence_ts)\n",
    "\n",
    "sequence_inds = np.arange(0, num_frames, int(target_fps * 0.8))\n",
    "groundtruth_t = groundtruth_data[\"local_t\"]\n",
    "\n",
    "\n",
    "estimated_t = []\n",
    "execution_times = []\n",
    "\n",
    "for t in sequence_inds:\n",
    "    source_feature_file = os.path.join(feature_dir, f\"{sequence_ts[t]}.secondary.npz\")\n",
    "    target_feature_file = os.path.join(feature_dir, f\"{sequence_ts[t]}.global.npz\")\n",
    "    \n",
    "    source = FCGF.get_features(source_feature_file, voxel_size, pcd_only=True)\n",
    "    target = FCGF.get_features(target_feature_file, voxel_size, pcd_only=True)\n",
    "    \n",
    "    if calc_overlap_ratio(source, target, groundtruth_t[t], voxel_size) < 30:\n",
    "        print(f\"Overlap ratio too low at frame {t}, \")\n",
    "        continue\n",
    "    \n",
    "    try:\n",
    "        registration.view(compress_and_decompress(source, 8), target, groundtruth_t[t])\n",
    "    except IndexError:\n",
    "        print(f\"Index error at frame {t}\")\n",
    "        continue\n",
    "\n",
    "\n",
    "\n",
    "# for sequence in sequences:\n",
    "#     sequence_pcds = pickle.load(open(sequence, \"rb\"))\n",
    "    \n",
    "#     sequence_id = os.path.basename(sequence).split(\"_\")[1].split(\".\")[0]\n",
    "    \n",
    "#     compressed_pcds = []\n",
    "\n",
    "#     for i in tqdm.trange(len(sequence_pcds)):\n",
    "#         try:\n",
    "#             points = sequence_pcds[i]\n",
    "#             points = np.asarray(preprocess(make_pcd(points)).points)\n",
    "#             coords, parms = octree_compress(points, depth)\n",
    "#             cpoints = octree_decompress(coords, parms)\n",
    "#             compressed_pcds.append(cpoints)\n",
    "#         except IndexError:\n",
    "#             compressed_pcds.append(sequence_pcds[i])\n",
    "#             continue"
   ]
  },
  {
   "cell_type": "code",
   "execution_count": 6,
   "metadata": {},
   "outputs": [],
   "source": [
    "pointclouds_dir = \"data/point_clouds\"\n",
    "experiment = \"exp_12\"\n",
    "\n",
    "voxel_size = 0.05\n",
    "depth = 8"
   ]
  },
  {
   "cell_type": "code",
   "execution_count": 17,
   "metadata": {},
   "outputs": [
    {
     "name": "stdout",
     "output_type": "stream",
     "text": [
      "Processing exp_12__trial_1__subject-1__01\n"
     ]
    },
    {
     "name": "stderr",
     "output_type": "stream",
     "text": [
      "100%|██████████| 651/651 [00:07<00:00, 88.49it/s] \n"
     ]
    },
    {
     "name": "stdout",
     "output_type": "stream",
     "text": [
      "Processing exp_12__trial_1__subject-1__02\n"
     ]
    },
    {
     "name": "stderr",
     "output_type": "stream",
     "text": [
      "100%|██████████| 654/654 [00:07<00:00, 83.73it/s] \n"
     ]
    },
    {
     "name": "stdout",
     "output_type": "stream",
     "text": [
      "Processing exp_12__trial_1__subject-1__03\n"
     ]
    },
    {
     "name": "stderr",
     "output_type": "stream",
     "text": [
      "100%|██████████| 613/613 [00:07<00:00, 83.83it/s] \n"
     ]
    },
    {
     "name": "stdout",
     "output_type": "stream",
     "text": [
      "Processing exp_12__trial_1__subject-1__04\n"
     ]
    },
    {
     "name": "stderr",
     "output_type": "stream",
     "text": [
      "100%|██████████| 652/652 [00:07<00:00, 92.92it/s] \n"
     ]
    },
    {
     "name": "stdout",
     "output_type": "stream",
     "text": [
      "Processing exp_12__trial_1__subject-1__05\n"
     ]
    },
    {
     "name": "stderr",
     "output_type": "stream",
     "text": [
      "100%|██████████| 652/652 [00:07<00:00, 83.30it/s] \n"
     ]
    },
    {
     "name": "stdout",
     "output_type": "stream",
     "text": [
      "Processing exp_12__trial_2__subject-1__01\n"
     ]
    },
    {
     "name": "stderr",
     "output_type": "stream",
     "text": [
      "100%|██████████| 650/650 [00:07<00:00, 82.65it/s] \n"
     ]
    },
    {
     "name": "stdout",
     "output_type": "stream",
     "text": [
      "Processing exp_12__trial_2__subject-1__02\n"
     ]
    },
    {
     "name": "stderr",
     "output_type": "stream",
     "text": [
      "100%|██████████| 652/652 [00:08<00:00, 80.43it/s] \n"
     ]
    },
    {
     "name": "stdout",
     "output_type": "stream",
     "text": [
      "Processing exp_12__trial_2__subject-1__03\n"
     ]
    },
    {
     "name": "stderr",
     "output_type": "stream",
     "text": [
      "100%|██████████| 658/658 [00:07<00:00, 86.91it/s] \n"
     ]
    },
    {
     "name": "stdout",
     "output_type": "stream",
     "text": [
      "Processing exp_12__trial_2__subject-1__04\n"
     ]
    },
    {
     "name": "stderr",
     "output_type": "stream",
     "text": [
      "100%|██████████| 653/653 [00:07<00:00, 84.37it/s] \n"
     ]
    },
    {
     "name": "stdout",
     "output_type": "stream",
     "text": [
      "Processing exp_12__trial_2__subject-1__05\n"
     ]
    },
    {
     "name": "stderr",
     "output_type": "stream",
     "text": [
      "100%|██████████| 627/627 [00:07<00:00, 87.61it/s] \n"
     ]
    },
    {
     "name": "stdout",
     "output_type": "stream",
     "text": [
      "Processing exp_12__trial_3__subject-1__01\n"
     ]
    },
    {
     "name": "stderr",
     "output_type": "stream",
     "text": [
      "100%|██████████| 636/636 [00:07<00:00, 84.80it/s] \n"
     ]
    },
    {
     "name": "stdout",
     "output_type": "stream",
     "text": [
      "Processing exp_12__trial_3__subject-1__02\n"
     ]
    },
    {
     "name": "stderr",
     "output_type": "stream",
     "text": [
      "100%|██████████| 618/618 [00:07<00:00, 87.21it/s] \n"
     ]
    },
    {
     "name": "stdout",
     "output_type": "stream",
     "text": [
      "Processing exp_12__trial_3__subject-1__03\n"
     ]
    },
    {
     "name": "stderr",
     "output_type": "stream",
     "text": [
      "100%|██████████| 651/651 [00:07<00:00, 88.86it/s] \n"
     ]
    },
    {
     "name": "stdout",
     "output_type": "stream",
     "text": [
      "Processing exp_12__trial_3__subject-1__04\n"
     ]
    },
    {
     "name": "stderr",
     "output_type": "stream",
     "text": [
      "100%|██████████| 642/642 [00:07<00:00, 88.94it/s] \n"
     ]
    },
    {
     "name": "stdout",
     "output_type": "stream",
     "text": [
      "Processing exp_12__trial_3__subject-1__05\n"
     ]
    },
    {
     "name": "stderr",
     "output_type": "stream",
     "text": [
      "100%|██████████| 649/649 [00:07<00:00, 84.17it/s] \n"
     ]
    }
   ],
   "source": [
    "for trial in os.listdir(os.path.join(pointclouds_dir, experiment)):\n",
    "    for subject in os.listdir(os.path.join(pointclouds_dir, experiment, trial)):\n",
    "        for sequence in os.listdir(os.path.join(pointclouds_dir, experiment, trial, subject)):\n",
    "            print(f\"Processing {experiment}__{trial}__{subject}__{sequence}\")\n",
    "            \n",
    "            sequence_dir = os.path.join(pointclouds_dir, experiment, trial, subject, sequence)\n",
    "\n",
    "            secondary_pcd_files = glob.glob(os.path.join(sequence_dir, \"*secondary.pcd\"))\n",
    "            \n",
    "            out_dir = sequence_dir.replace(experiment, f\"{experiment}_compressed\")\n",
    "\n",
    "            if not os.path.exists(out_dir):\n",
    "                os.makedirs(out_dir)\n",
    "                \n",
    "            for secondary_pcd_file in tqdm.tqdm(secondary_pcd_files):\n",
    "                pcd = open3d.io.read_point_cloud(secondary_pcd_file)\n",
    "                pcd = open3d.voxel_down_sample(pcd, voxel_size)\n",
    "                try:\n",
    "                    pcd = compress_and_decompress(pcd, depth)\n",
    "                    open3d.io.write_point_cloud(os.path.join(out_dir, os.path.basename(secondary_pcd_file)), pcd)\n",
    "                except IndexError:\n",
    "                    continue"
   ]
  },
  {
   "cell_type": "code",
   "execution_count": 5,
   "metadata": {},
   "outputs": [],
   "source": [
    "pcd_files = glob.glob(\"data/point_clouds/exp_12/trial_1/subject-1/01/*.secondary.pcd\")"
   ]
  },
  {
   "attachments": {},
   "cell_type": "markdown",
   "metadata": {},
   "source": [
    "### Reconstruction quality"
   ]
  },
  {
   "cell_type": "code",
   "execution_count": 29,
   "metadata": {},
   "outputs": [],
   "source": [
    "pcd_files = glob.glob(\"../../local-registration/data/point_clouds/exp_10/trial_1/subject-1/01/*.secondary.pcd\")"
   ]
  },
  {
   "cell_type": "code",
   "execution_count": 10,
   "metadata": {},
   "outputs": [
    {
     "name": "stdout",
     "output_type": "stream",
     "text": [
      "Compression time: 0.0023226117132624786\n",
      "Decompression time: 0.00030495720027224124\n"
     ]
    }
   ],
   "source": [
    "compressed_t, decompressed_t = [], []\n",
    "\n",
    "for i in range(len(pcd_files)):\n",
    "    try:\n",
    "        pcd = open3d.io.read_point_cloud(pcd_files[i])\n",
    "        t1, t2 = compress_and_decompress(pcd, 8)\n",
    "        \n",
    "        compressed_t.append(t1)\n",
    "        decompressed_t.append(t2)\n",
    "    except IndexError:\n",
    "        continue\n",
    "    \n",
    "print(f\"Compression time: {np.mean(compressed_t)}\")\n",
    "print(f\"Decompression time: {np.mean(decompressed_t)}\")"
   ]
  },
  {
   "cell_type": "code",
   "execution_count": 63,
   "metadata": {},
   "outputs": [
    {
     "name": "stderr",
     "output_type": "stream",
     "text": [
      "100%|██████████| 369/369 [00:09<00:00, 39.34it/s]\n"
     ]
    }
   ],
   "source": [
    "compression_ratios = []\n",
    "\n",
    "for i in tqdm.trange(len(pcd_files)):\n",
    "    pcd = o3d.io.read_point_cloud(pcd_files[i])\n",
    "    points = np.asarray(pcd.points)\n",
    "\n",
    "    original_bytes = points.nbytes\n",
    "\n",
    "    pcd = o3d.geometry.voxel_down_sample(pcd, voxel_size=0.05)\n",
    "\n",
    "    points = np.asarray(pcd.points)\n",
    "\n",
    "    compressed_bytes = points.nbytes\n",
    "\n",
    "    compression_ratios.append(original_bytes / compressed_bytes)"
   ]
  },
  {
   "cell_type": "code",
   "execution_count": 64,
   "metadata": {},
   "outputs": [
    {
     "name": "stdout",
     "output_type": "stream",
     "text": [
      "Min compression ratio: 17.33\n",
      "Median compression ratio: 36.52\n",
      "Max compression ratio: 110.13\n"
     ]
    }
   ],
   "source": [
    "print(f\"Min compression ratio: {np.min(compression_ratios):.2f}\")\n",
    "print(f\"Median compression ratio: {np.median(compression_ratios):.2f}\")\n",
    "print(f\"Max compression ratio: {np.max(compression_ratios):.2f}\")"
   ]
  },
  {
   "cell_type": "code",
   "execution_count": 73,
   "metadata": {},
   "outputs": [
    {
     "name": "stderr",
     "output_type": "stream",
     "text": [
      "100%|██████████| 369/369 [00:10<00:00, 34.90it/s]\n"
     ]
    }
   ],
   "source": [
    "compression_ratios = []\n",
    "\n",
    "for i in tqdm.trange(len(pcd_files)):\n",
    "    pcd = o3d.io.read_point_cloud(pcd_files[i])\n",
    "    points = np.asarray(pcd.points)\n",
    "    original_bytes = points.nbytes\n",
    "    \n",
    "    pcd = o3d.geometry.voxel_down_sample(pcd, voxel_size=0.03)\n",
    "    points = np.asarray(pcd.points)\n",
    "\n",
    "    try: \n",
    "        coords, params = octree_compress(points, depth=6)\n",
    "        coords = np.unique(coords)\n",
    "        comp_points = octree_decompress(coords, params)\n",
    "        \n",
    "        compressed_bytes = comp_points.nbytes\n",
    "        compression_ratios.append(original_bytes / compressed_bytes)\n",
    "    except IndexError:\n",
    "        continue\n",
    "    "
   ]
  },
  {
   "cell_type": "code",
   "execution_count": 74,
   "metadata": {},
   "outputs": [
    {
     "name": "stdout",
     "output_type": "stream",
     "text": [
      "Min compression ratio: 32.77\n",
      "Median compression ratio: 57.30\n",
      "Max compression ratio: 109.83\n"
     ]
    }
   ],
   "source": [
    "print(f\"Min compression ratio: {np.min(compression_ratios):.2f}\")\n",
    "print(f\"Median compression ratio: {np.median(compression_ratios):.2f}\")\n",
    "print(f\"Max compression ratio: {np.max(compression_ratios):.2f}\")\n"
   ]
  },
  {
   "cell_type": "code",
   "execution_count": 61,
   "metadata": {},
   "outputs": [
    {
     "name": "stderr",
     "output_type": "stream",
     "text": [
      "100%|██████████| 369/369 [00:16<00:00, 21.89it/s]\n"
     ]
    }
   ],
   "source": [
    "rmse = []\n",
    "\n",
    "\n",
    "for i in tqdm.trange(len(pcd_files)):\n",
    "    pcd = o3d.io.read_point_cloud(pcd_files[i])\n",
    "    # pcd = o3d.geometry.voxel_down_sample(pcd, voxel_size=0.03)\n",
    "    points = np.asarray(pcd.points)\n",
    "    compressed_bytes = points.nbytes\n",
    "\n",
    "    try: \n",
    "        coords, params = octree_compress(points, depth=10)\n",
    "        comp_points = octree_decompress(coords, params)\n",
    "        rmse.append(np.sqrt(np.mean((points - comp_points)**2)))\n",
    "    except IndexError:\n",
    "        continue\n",
    "    "
   ]
  },
  {
   "cell_type": "code",
   "execution_count": 62,
   "metadata": {},
   "outputs": [
    {
     "name": "stdout",
     "output_type": "stream",
     "text": [
      "Mean RMSE: 0.030\n"
     ]
    }
   ],
   "source": [
    "print(f\"Mean RMSE: {np.max(rmse):.3f}\")"
   ]
  },
  {
   "cell_type": "code",
   "execution_count": null,
   "metadata": {},
   "outputs": [],
   "source": []
  }
 ],
 "metadata": {
  "kernelspec": {
   "display_name": "Python 3",
   "language": "python",
   "name": "python3"
  },
  "language_info": {
   "codemirror_mode": {
    "name": "ipython",
    "version": 3
   },
   "file_extension": ".py",
   "mimetype": "text/x-python",
   "name": "python",
   "nbconvert_exporter": "python",
   "pygments_lexer": "ipython3",
   "version": "3.7.9"
  },
  "orig_nbformat": 4
 },
 "nbformat": 4,
 "nbformat_minor": 2
}
