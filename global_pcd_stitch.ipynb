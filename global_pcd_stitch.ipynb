{
 "cells": [
  {
   "cell_type": "code",
   "execution_count": 1,
   "metadata": {},
   "outputs": [],
   "source": [
    "import os\n",
    "import glob\n",
    "import open3d\n",
    "import numpy as np\n",
    "\n",
    "from PIL import Image\n",
    "from copy import deepcopy\n",
    "from utils.depth_camera import DepthCamera\n",
    "from utils.pointcloud import remove_outliers"
   ]
  },
  {
   "cell_type": "code",
   "execution_count": 3,
   "metadata": {},
   "outputs": [],
   "source": [
    "def read_first_depth_img(experiment_dir, device_id, aligned):\n",
    "    \"\"\"\n",
    "    Read the first depth image from a trial.\n",
    "    \"\"\"\n",
    "    depth_img_path = glob.glob(f\"{experiment_dir}/trial_0/global/device-{device_id}/*.depth.png\")[0]\n",
    "    device = DepthCamera(f\"device-{device_id}\", f\"{experiment_dir}/metadata/device-{device_id}{'-aligned' if aligned else ''}.json\")\n",
    "    return device.depth_to_point_cloud(depth_img_path)\n",
    "\n",
    "\n",
    "def read_extrinsics(experiment_dir, device_id):\n",
    "    \"\"\"\n",
    "    Read the extrinsics from a trial.\n",
    "    \"\"\"\n",
    "    return np.loadtxt(f\"{experiment_dir}/trial_1/global/transformations/device-{device_id}.txt\")\n",
    "\n",
    "\n",
    "def write_extrinsics(experiment_dir, trial, device_id, transformation):\n",
    "    \"\"\"\n",
    "    write the extrinsics from a trial.\n",
    "    \"\"\"\n",
    "    if not os.path.exists(f\"{experiment_dir}/{trial}/global/transformations\"):\n",
    "        os.makedirs(f\"{experiment_dir}/{trial}/global/transformations\")\n",
    "        \n",
    "    return np.savetxt(f\"{experiment_dir}/{trial}/global/transformations/device-{device_id}.txt\", transformation)\n",
    "\n",
    "\n",
    "def execute_global_registration(source_down, target_down, source_feat, target_feat, n_ransac, threshold):\n",
    "    result = open3d.registration.registration_ransac_based_on_feature_matching(\n",
    "        source_down, target_down, source_feat, target_feat, threshold,\n",
    "        open3d.registration.TransformationEstimationPointToPoint(False), n_ransac, \n",
    "        [open3d.registration.CorrespondenceCheckerBasedOnEdgeLength(0.9), open3d.registration.CorrespondenceCheckerBasedOnDistance(threshold)],\n",
    "        open3d.registration.RANSACConvergenceCriteria(4000000, 500))\n",
    "    return result\n",
    "\n",
    "\n",
    "def refine_registration(source, target, distance_threshold, trans_init):\n",
    "    result = open3d.registration.registration_icp(\n",
    "        source, target, distance_threshold, trans_init,\n",
    "        open3d.registration.TransformationEstimationPointToPlane(),\n",
    "        open3d.registration.ICPConvergenceCriteria(max_iteration=1000)\n",
    "    )\n",
    "    return result\n",
    "\n",
    "\n",
    "def visualize(source, target, transformation):\n",
    "    source_temp = deepcopy(source)\n",
    "    target_temp = deepcopy(target)\n",
    "    \n",
    "    source_temp.paint_uniform_color([1, 0.706, 0])\n",
    "    target_temp.paint_uniform_color([0, 0.651, 0.929])\n",
    "    \n",
    "    source_temp.transform(transformation)\n",
    "    \n",
    "    open3d.visualization.draw_geometries([source_temp, target_temp])\n",
    "    \n",
    "    \n",
    "def rotate_transformation_matrix(t, rx, ry, rz):\n",
    "    # Convert degrees to radians\n",
    "    rx, ry, rz = np.radians(rx), np.radians(ry), np.radians(rz)\n",
    "\n",
    "    RX = np.array([\n",
    "        [1, 0, 0, 0],\n",
    "        [0, np.cos(rx), -np.sin(rx), 0],\n",
    "        [0, np.sin(rx), np.cos(rx), 0],\n",
    "        [0, 0, 0, 1]\n",
    "    ])\n",
    "\n",
    "    RY = np.array([\n",
    "        [np.cos(ry), 0, np.sin(ry), 0],\n",
    "        [0, 1, 0, 0],\n",
    "        [-np.sin(ry), 0, np.cos(ry), 0],\n",
    "        [0, 0, 0, 1]\n",
    "    ])\n",
    "\n",
    "    RZ = np.array([\n",
    "        [np.cos(rz), -np.sin(rz), 0, 0],\n",
    "        [np.sin(rz), np.cos(rz), 0, 0],\n",
    "        [0, 0, 1, 0],\n",
    "        [0, 0, 0, 1]\n",
    "    ])\n",
    "\n",
    "    return np.dot(np.dot(np.dot(t, RZ), RY), RX)"
   ]
  },
  {
   "cell_type": "code",
   "execution_count": 18,
   "metadata": {},
   "outputs": [],
   "source": [
    "dev_0_pcd = read_first_depth_img(\"data/raw_data/exp_12\", 0, aligned=False)\n",
    "dev_1_pcd = read_first_depth_img(\"data/raw_data/exp_12\", 1, aligned=False)\n",
    "dev_2_pcd = read_first_depth_img(\"data/raw_data/exp_12\", 2, aligned=False)"
   ]
  },
  {
   "cell_type": "code",
   "execution_count": 6,
   "metadata": {},
   "outputs": [
    {
     "data": {
      "text/plain": [
       "True"
      ]
     },
     "execution_count": 6,
     "metadata": {},
     "output_type": "execute_result"
    }
   ],
   "source": [
    "open3d.io.write_point_cloud(\"temp/dev_0.pcd\", dev_0_pcd)\n",
    "open3d.io.write_point_cloud(\"temp/dev_1.pcd\", dev_1_pcd)\n",
    "open3d.io.write_point_cloud(\"temp/dev_2.pcd\", dev_2_pcd)"
   ]
  },
  {
   "cell_type": "code",
   "execution_count": 12,
   "metadata": {},
   "outputs": [],
   "source": [
    "dev_0_trans_init = np.loadtxt(\"temp/dev_0.txt\")\n",
    "dev_1_trans_init = np.loadtxt(\"temp/dev_1.txt\")\n",
    "dev_2_trans_init = np.loadtxt(\"temp/dev_2.txt\")"
   ]
  },
  {
   "cell_type": "code",
   "execution_count": 13,
   "metadata": {},
   "outputs": [
    {
     "data": {
      "text/plain": [
       "True"
      ]
     },
     "execution_count": 13,
     "metadata": {},
     "output_type": "execute_result"
    }
   ],
   "source": [
    "dev_0_pcd = open3d.voxel_down_sample(dev_0_pcd, 0.03)\n",
    "dev_1_pcd = open3d.voxel_down_sample(dev_1_pcd, 0.03)\n",
    "dev_2_pcd = open3d.voxel_down_sample(dev_2_pcd, 0.03)\n",
    "\n",
    "open3d.geometry.estimate_normals(dev_0_pcd)\n",
    "open3d.geometry.estimate_normals(dev_1_pcd)\n",
    "open3d.geometry.estimate_normals(dev_2_pcd)"
   ]
  },
  {
   "cell_type": "code",
   "execution_count": 7,
   "metadata": {},
   "outputs": [],
   "source": [
    "dev_0_trans_init = read_extrinsics(\"data/raw_data/exp_11\", 0)\n",
    "dev_1_trans_init = read_extrinsics(\"data/raw_data/exp_11\", 1)\n",
    "dev_2_trans_init = read_extrinsics(\"data/raw_data/exp_11\", 2)"
   ]
  },
  {
   "cell_type": "code",
   "execution_count": 19,
   "metadata": {},
   "outputs": [
    {
     "data": {
      "text/plain": [
       "geometry::PointCloud with 109636 points."
      ]
     },
     "execution_count": 19,
     "metadata": {},
     "output_type": "execute_result"
    }
   ],
   "source": [
    "dev_0_pcd.transform(dev_0_trans_init)\n",
    "dev_1_pcd.transform(dev_1_trans_init)\n",
    "dev_2_pcd.transform(dev_2_trans_init)"
   ]
  },
  {
   "cell_type": "code",
   "execution_count": 15,
   "metadata": {},
   "outputs": [],
   "source": [
    "open3d.visualization.draw_geometries([dev_0_pcd, dev_1_pcd, dev_2_pcd])"
   ]
  },
  {
   "cell_type": "code",
   "execution_count": 21,
   "metadata": {},
   "outputs": [
    {
     "data": {
      "text/plain": [
       "True"
      ]
     },
     "execution_count": 21,
     "metadata": {},
     "output_type": "execute_result"
    }
   ],
   "source": [
    "global_merged_pcd = open3d.geometry.PointCloud()\n",
    "\n",
    "global_merged_pcd += dev_0_pcd\n",
    "global_merged_pcd += dev_1_pcd\n",
    "global_merged_pcd += dev_2_pcd\n",
    "\n",
    "global_merged_pcd = open3d.voxel_down_sample(global_merged_pcd, 0.015)\n",
    "\n",
    "global_merged_pcd = remove_outliers(global_merged_pcd)\n",
    "\n",
    "open3d.visualization.draw_geometries([global_merged_pcd])\n",
    "\n",
    "open3d.io.write_point_cloud(\"data/reference/larc_kitchen_v5.pcd\", global_merged_pcd)\n",
    "\n",
    "# open3d.io.write_point_cloud(\"data/reference/larc_kitchen_3cams.pcd\", global_merged_pcd)"
   ]
  },
  {
   "cell_type": "code",
   "execution_count": 22,
   "metadata": {},
   "outputs": [],
   "source": [
    "for trial in os.listdir(\"data/raw_data/exp_12/\"):\n",
    "    if trial.startswith(\"trial\"):\n",
    "        write_extrinsics(\"data/raw_data/exp_12\", trial, 0, dev_0_trans_init)\n",
    "        write_extrinsics(\"data/raw_data/exp_12\", trial, 1, dev_1_trans_init)\n",
    "        write_extrinsics(\"data/raw_data/exp_12\", trial, 2, dev_2_trans_init)"
   ]
  },
  {
   "cell_type": "code",
   "execution_count": 1,
   "metadata": {},
   "outputs": [],
   "source": [
    "import open3d\n",
    "import numpy as np\n",
    "import pandas as pd\n",
    "import os\n",
    "import tqdm\n",
    "import copy\n",
    "import glob\n",
    "\n",
    "from scipy.signal import argrelmin\n",
    "from PIL import Image\n",
    "\n",
    "import utils.registration as registration\n",
    "import utils.grid_search_unopt as grid_search\n",
    "import utils.fread as fread\n",
    "import utils.FCGF as FCGF\n",
    "import utils.registration as registration\n",
    "import utils.functions as functions\n",
    "import utils.transform as transform\n",
    "import utils.pointcloud as pointcloud"
   ]
  },
  {
   "cell_type": "code",
   "execution_count": 2,
   "metadata": {},
   "outputs": [],
   "source": [
    "def find_candidate_global_pos(std_values, delta):\n",
    "    global_pos = [0]\n",
    "    prev_t = 0\n",
    "    for current_t in range(len(std_values)):\n",
    "        if np.abs(std_values[current_t] - std_values[prev_t]) > delta:\n",
    "            global_pos.append(current_t)\n",
    "            prev_t = current_t\n",
    "            \n",
    "    return global_pos\n",
    "\n",
    "\n",
    "def find_cutoffs(std_values, target_fps, min_std, threshold):\n",
    "    cutoffs = argrelmin(std_values, order=target_fps // 2)[0]\n",
    "    return cutoffs[np.where(np.abs(std_values[cutoffs] - min_std) < threshold)[0]]"
   ]
  },
  {
   "cell_type": "code",
   "execution_count": 3,
   "metadata": {},
   "outputs": [],
   "source": [
    "min_std = 0.5\n",
    "threshold = 0.5\n",
    "target_fps = 20\n",
    "cutoff_margin = 5 # frames\n",
    "\n",
    "experiment = \"exp_12\"\n",
    "subject = \"subject-1\"\n",
    "trial = \"trial_1\"\n",
    "sequence = \"01\"\n",
    "\n",
    "voxel_size = 0.03\n",
    "\n",
    "out_dir = \"data/trajectories/groundtruth/exp_12\"\n",
    "\n",
    "sequence_dir = f\"data/raw_data/{experiment}/{trial}/secondary/{subject}/{sequence}/frames\"\n",
    "feature_dir = os.path.join(\"data/features\", experiment, trial, str(voxel_size), subject, sequence)\n",
    "\n",
    "sequence_ts = fread.get_timstamps(feature_dir, ext=\".secondary.npz\")\n",
    "num_frames = len(sequence_ts)\n",
    "\n",
    "file_name = f\"{experiment}__{trial}__{subject}__{sequence}\""
   ]
  },
  {
   "cell_type": "code",
   "execution_count": 4,
   "metadata": {},
   "outputs": [
    {
     "name": "stdout",
     "output_type": "stream",
     "text": [
      "651\n"
     ]
    }
   ],
   "source": [
    "print(num_frames)"
   ]
  },
  {
   "cell_type": "code",
   "execution_count": 5,
   "metadata": {},
   "outputs": [],
   "source": [
    "std_values = []\n",
    "\n",
    "for t in range(len(sequence_ts)):\n",
    "    depth_img = Image.open(os.path.join(sequence_dir, f\"frame-{sequence_ts[t]}.depth.png\")).convert(\"I\")\n",
    "    depth_img = np.array(depth_img) / 4000\n",
    "    std_values.append(np.std(depth_img))\n",
    "    \n",
    "std_values = np.array(std_values)\n",
    "\n",
    "cutoffs = find_cutoffs(std_values, target_fps, min_std, threshold)\n",
    "cutoffs = np.concatenate([[0], cutoffs, [num_frames - 1]])\n",
    "cutoffs = list(zip(cutoffs[:-1] + cutoff_margin, cutoffs[1:] - cutoff_margin))"
   ]
  },
  {
   "cell_type": "code",
   "execution_count": 8,
   "metadata": {},
   "outputs": [],
   "source": [
    "local_t = np.load(os.path.join(f\"data/trajectories/groundtruth/{experiment}\", f\"{file_name}.pose.npz\"))[\"local_t\"]\n",
    "\n",
    "fragment_files = glob.glob(os.path.join(f\"data/fragments/{experiment}\", f\"{file_name}__*.pcd\"))\n",
    "fragment_files = sorted(fragment_files, key=lambda f: int(os.path.basename(f).split(\".\")[0].split(\"__\")[-1]))\n",
    "\n",
    "fragment_t = [np.loadtxt(fragment_files[i].replace(\"pcd\", \"txt\")) for i in range(len(fragment_files))]\n",
    "\n",
    "trajectory_t = [np.identity(4) for _ in range(num_frames)]\n",
    "global_t = [np.zeros((4, 4)) for _ in range(num_frames)]"
   ]
  },
  {
   "cell_type": "code",
   "execution_count": 9,
   "metadata": {},
   "outputs": [
    {
     "data": {
      "text/plain": [
       "['data/fragments/exp_12\\\\exp_12__trial_1__subject-1__01__00.pcd',\n",
       " 'data/fragments/exp_12\\\\exp_12__trial_1__subject-1__01__01.pcd',\n",
       " 'data/fragments/exp_12\\\\exp_12__trial_1__subject-1__01__02.pcd',\n",
       " 'data/fragments/exp_12\\\\exp_12__trial_1__subject-1__01__03.pcd',\n",
       " 'data/fragments/exp_12\\\\exp_12__trial_1__subject-1__01__04.pcd']"
      ]
     },
     "execution_count": 9,
     "metadata": {},
     "output_type": "execute_result"
    }
   ],
   "source": [
    "fragment_files"
   ]
  },
  {
   "cell_type": "code",
   "execution_count": 10,
   "metadata": {},
   "outputs": [],
   "source": [
    "if len(fragment_t) < len(cutoffs):\n",
    "    fragment_ids = [int(os.path.basename(f).split(\".\")[0].split(\"__\")[-1]) for f in fragment_files]\n",
    "    cutoffs = [cutoffs[fi] for fi in fragment_ids]\n",
    "\n",
    "for fragment_ind, (start_t, end_t) in enumerate(cutoffs):\n",
    "    for t in range(start_t + 1, end_t):\n",
    "        trajectory_t[t] = np.dot(trajectory_t[t - 1], local_t[t])\n",
    "        \n",
    "    for t in range(start_t, end_t):\n",
    "        global_t[t] = np.dot(fragment_t[fragment_ind], trajectory_t[t])"
   ]
  },
  {
   "cell_type": "code",
   "execution_count": null,
   "metadata": {},
   "outputs": [],
   "source": []
  }
 ],
 "metadata": {
  "kernelspec": {
   "display_name": "Python 3",
   "language": "python",
   "name": "python3"
  },
  "language_info": {
   "codemirror_mode": {
    "name": "ipython",
    "version": 3
   },
   "file_extension": ".py",
   "mimetype": "text/x-python",
   "name": "python",
   "nbconvert_exporter": "python",
   "pygments_lexer": "ipython3",
   "version": "3.7.9"
  },
  "orig_nbformat": 4,
  "vscode": {
   "interpreter": {
    "hash": "0867b0a0ec4aa79c375d84191bb807ed1d4e37587ac53650fe54c5bacc252e88"
   }
  }
 },
 "nbformat": 4,
 "nbformat_minor": 2
}
