{
 "cells": [
  {
   "cell_type": "code",
   "execution_count": 1,
   "metadata": {},
   "outputs": [],
   "source": [
    "import open3d\n",
    "import numpy as np\n",
    "import pandas as pd\n",
    "import os\n",
    "import glob\n",
    "import tqdm\n",
    "import copy\n",
    "\n",
    "import utils.registration as registration\n",
    "import utils.fread as fread\n",
    "import utils.transform as transform\n",
    "import utils.grid_search_unopt as grid_search\n",
    "import utils.functions as functions\n",
    "\n",
    "from time import sleep\n",
    "from PIL import Image\n",
    "from utils.config import Config"
   ]
  },
  {
   "cell_type": "code",
   "execution_count": 7,
   "metadata": {},
   "outputs": [],
   "source": [
    "config = Config(\n",
    "    sequence_dir=\"../local-registration/data/raw_data\",\n",
    "    feature_dir=\"../local-registration/data/features\",\n",
    "    output_dir=\"data/trajectories/local/FPFH\",\n",
    "    experiment=\"exp_11\",\n",
    "    trial=\"trial_1\",\n",
    "    subject=\"subject-1\",\n",
    "    sequence=\"01\",\n",
    "    groundtruth_dir=\"data/trajectories/groundtruth\",\n",
    ")\n",
    "\n",
    "config.voxel_size=0.03\n",
    "config.target_fps=20\n",
    "config.min_std=0.5"
   ]
  },
  {
   "cell_type": "code",
   "execution_count": 8,
   "metadata": {},
   "outputs": [],
   "source": [
    "sequence_dir = config.get_sequence_dir()\n",
    "feature_dir = config.get_feature_dir()\n",
    "\n",
    "sequence_ts = fread.get_timstamps(feature_dir, ext=\".secondary.npz\")\n",
    "sequence_ts = fread.sample_timestamps(sequence_ts, config.target_fps)\n",
    "num_frames = len(sequence_ts)"
   ]
  },
  {
   "cell_type": "code",
   "execution_count": 9,
   "metadata": {},
   "outputs": [
    {
     "name": "stderr",
     "output_type": "stream",
     "text": [
      "100%|██████████| 420/420 [00:05<00:00, 70.18it/s]\n",
      "100%|██████████| 420/420 [00:00<00:00, 420732.67it/s]\n"
     ]
    }
   ],
   "source": [
    "std_values = []\n",
    "\n",
    "for t in tqdm.trange(num_frames):\n",
    "    depth_img_file = os.path.join(sequence_dir, f\"frame-{sequence_ts[t]}.depth.png\")\n",
    "    std_values.append(registration.calc_std(depth_img_file, 4000))\n",
    "    \n",
    "std_values = np.array(std_values)\n",
    "\n",
    "device_0_ts = fread.get_timstamps_from_images(os.path.join(config.get_global_dir(), \"device-0\"), ext=\".depth.png\")\n",
    "device_1_ts = fread.get_timstamps_from_images(os.path.join(config.get_global_dir(), \"device-1\"), ext=\".depth.png\")\n",
    "device_2_ts = fread.get_timstamps_from_images(os.path.join(config.get_global_dir(), \"device-2\"), ext=\".depth.png\")\n",
    "\n",
    "y = [[], [], []]\n",
    "\n",
    "for i in range(num_frames):\n",
    "    y[0].append(functions.nearest(device_0_ts, sequence_ts[i]))\n",
    "    y[1].append(functions.nearest(device_1_ts, sequence_ts[i]))\n",
    "    y[2].append(functions.nearest(device_2_ts, sequence_ts[i]))\n",
    "    \n",
    "    y[0][i] = np.abs(y[0][i] - sequence_ts[i])\n",
    "    y[1][i] = np.abs(y[1][i] - sequence_ts[i])\n",
    "    y[2][i] = np.abs(y[2][i] - sequence_ts[i])\n",
    "    \n",
    "global_frame_delays = np.array(y)\n",
    "global_frame_delays_inds = np.ones(global_frame_delays.shape, dtype=np.int8)\n",
    "\n",
    "for r, c in np.argwhere(global_frame_delays > 100):\n",
    "    global_frame_delays_inds[r, c] = 0\n",
    "    \n",
    "global_frame_delays_inds = np.sum(global_frame_delays_inds, axis=0)\n",
    "global_frame_delays_inds = np.where(global_frame_delays_inds == 3, 1, 0)\n",
    "    \n",
    "global_pos = [0]\n",
    "for t in tqdm.trange(num_frames):\n",
    "\n",
    "    if t - global_pos[-1] >= config.target_fps * 0.8: \n",
    "        global_pos.append(t)\n",
    "        continue\n",
    "    \n",
    "    if (np.abs(std_values[t] - std_values[global_pos[-1]]) > config.delta) and (t - global_pos[-1] > config.target_fps * 0.5):\n",
    "        global_pos.append(t)\n",
    "\n",
    "global_pos = np.array(global_pos)"
   ]
  },
  {
   "cell_type": "code",
   "execution_count": 10,
   "metadata": {},
   "outputs": [
    {
     "name": "stdout",
     "output_type": "stream",
     "text": [
      "Keypts: [19649, 82704]\tNo of matches: 10418\tFitness: 0.5302\tInlier RMSE: 0.0218\n"
     ]
    }
   ],
   "source": [
    "t = 20\n",
    "source_feature_file = os.path.join(feature_dir, f\"{sequence_ts[global_pos[t]]}.secondary.npz\")\n",
    "target_feature_file = os.path.join(feature_dir, f\"{sequence_ts[global_pos[t]]}.global.npz\")\n",
    "\n",
    "source, target, reg_result = grid_search.global_registration(source_feature_file, target_feature_file, config.voxel_size, cell_size=2, refine_enabled=True)\n",
    "\n",
    "if reg_result:\n",
    "    registration.describe(source, target, reg_result)\n",
    "else:\n",
    "    print(\"Registration failed.\")"
   ]
  },
  {
   "cell_type": "code",
   "execution_count": 11,
   "metadata": {},
   "outputs": [],
   "source": [
    "registration.view(source, target, reg_result.transformation if reg_result else np.identity(4))"
   ]
  },
  {
   "cell_type": "code",
   "execution_count": null,
   "metadata": {},
   "outputs": [],
   "source": []
  }
 ],
 "metadata": {
  "kernelspec": {
   "display_name": "lidar",
   "language": "python",
   "name": "python3"
  },
  "language_info": {
   "codemirror_mode": {
    "name": "ipython",
    "version": 3
   },
   "file_extension": ".py",
   "mimetype": "text/x-python",
   "name": "python",
   "nbconvert_exporter": "python",
   "pygments_lexer": "ipython3",
   "version": "3.7.9"
  },
  "orig_nbformat": 4
 },
 "nbformat": 4,
 "nbformat_minor": 2
}
